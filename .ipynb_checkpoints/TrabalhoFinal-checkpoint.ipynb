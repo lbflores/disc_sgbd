{
 "cells": [
  {
   "cell_type": "markdown",
   "id": "1ca5d252",
   "metadata": {},
   "source": [
    "# Trabalho final da disciplina\n",
    "\n",
    "#### O trabalho final da disciplina consiste na construção de um modelo preditivo para uma tarefa de classificação através do emprego das técnicas de aprendizagem supervisionada.\n",
    "\n",
    "#### Para desenvolvimento da atividade foi selecionado o dataset Gerenciamento de Consultas - Solicitação de consultas especializadas 2020. Disponível em: http://datapoa.com.br/dataset/gercon-gerenciamento-de-consultas\n",
    "\n",
    "#### Objetivo do modelo: Explorar os registros de solicitação e agendamento de consultas especializadas realizadas na rede pública de Porto Alegre no ano de 2020. Tendo como coluna alvo a \"situacao_solicitacao\" que guarda o status de cada consulta, informando se foi Realizadas ou Cancelada. O objetivo será aplicar modelos preditivos vistos em aula para prever se a consulta será realizada ou cancaleda como base nas demais informações do dataset como categoria, sexo, especilidade e numero de dias de espera entre a solictação e a datada consulta.\n",
    "\n",
    "\n"
   ]
  },
  {
   "cell_type": "markdown",
   "id": "e547c7be",
   "metadata": {},
   "source": [
    "### Importanto bibliotecas"
   ]
  },
  {
   "cell_type": "code",
   "execution_count": 68,
   "id": "c3d66019",
   "metadata": {},
   "outputs": [],
   "source": [
    "import pandas as pd\n",
    "import numpy as np\n",
    "import datetime\n",
    "import matplotlib.pyplot as plt"
   ]
  },
  {
   "cell_type": "markdown",
   "id": "31aabb79",
   "metadata": {},
   "source": [
    "#### Definindo as colunas de interesse do dataset"
   ]
  },
  {
   "cell_type": "code",
   "execution_count": 69,
   "id": "0ad0aff2",
   "metadata": {},
   "outputs": [],
   "source": [
    "colunas = ['id_usuario', 'situacao_solicitacao' ,'data_solicitacao','sexo', 'nascimento','nome_municipio_residencia', 'nome_municipio_solicitante', 'descricao_especialidade','complexidade', 'data_consulta','nome_municipio_executante']"
   ]
  },
  {
   "cell_type": "markdown",
   "id": "68f27ef1",
   "metadata": {},
   "source": [
    "#### Importanto dataset - A leitura do arquivo está sendo realizada de forma reduzida para 1000 linha\n"
   ]
  },
  {
   "cell_type": "code",
   "execution_count": 70,
   "id": "79e0f2bc",
   "metadata": {},
   "outputs": [],
   "source": [
    "df = pd.read_csv('gercon_solicitacoes_2020.csv', sep=';', usecols = colunas, dtype = {'sexo': 'category', 'complexidade': 'category', 'situacao_solicitacao': 'category'} )"
   ]
  },
  {
   "cell_type": "code",
   "execution_count": 71,
   "id": "1ea67f4a",
   "metadata": {},
   "outputs": [],
   "source": [
    "df = df.query(\"situacao_solicitacao == 'REALIZADA' or situacao_solicitacao == 'CANCELADA' and data_consulta != 'null'\")"
   ]
  },
  {
   "cell_type": "markdown",
   "id": "43c31ef8",
   "metadata": {},
   "source": [
    "## 1.\tAnálise exploratória dos dados\n",
    "\n",
    "#### Nesta seção são apresentandas as características do dataset. O dataset importado possui 11 variáveis e XX linhas, com alguns campos nulos e formatos que serão tratados no decorrer desse trabalho."
   ]
  },
  {
   "cell_type": "code",
   "execution_count": 72,
   "id": "43554e3d",
   "metadata": {},
   "outputs": [
    {
     "name": "stdout",
     "output_type": "stream",
     "text": [
      "<class 'pandas.core.frame.DataFrame'>\n",
      "Int64Index: 263485 entries, 0 to 1014317\n",
      "Data columns (total 11 columns):\n",
      " #   Column                      Non-Null Count   Dtype   \n",
      "---  ------                      --------------   -----   \n",
      " 0   id_usuario                  263485 non-null  object  \n",
      " 1   situacao_solicitacao        263485 non-null  category\n",
      " 2   data_solicitacao            263485 non-null  object  \n",
      " 3   sexo                        263479 non-null  category\n",
      " 4   nascimento                  263485 non-null  object  \n",
      " 5   nome_municipio_residencia   263485 non-null  object  \n",
      " 6   nome_municipio_solicitante  263485 non-null  object  \n",
      " 7   descricao_especialidade     263485 non-null  object  \n",
      " 8   complexidade                263485 non-null  category\n",
      " 9   data_consulta               200429 non-null  object  \n",
      " 10  nome_municipio_executante   200429 non-null  object  \n",
      "dtypes: category(3), object(8)\n",
      "memory usage: 18.8+ MB\n"
     ]
    }
   ],
   "source": [
    "df.info()"
   ]
  },
  {
   "cell_type": "code",
   "execution_count": 73,
   "id": "67ec9e91",
   "metadata": {},
   "outputs": [],
   "source": [
    "df.dropna(subset=['data_consulta'], inplace=True)"
   ]
  },
  {
   "cell_type": "code",
   "execution_count": 74,
   "id": "14646417",
   "metadata": {},
   "outputs": [
    {
     "data": {
      "text/html": [
       "<div>\n",
       "<style scoped>\n",
       "    .dataframe tbody tr th:only-of-type {\n",
       "        vertical-align: middle;\n",
       "    }\n",
       "\n",
       "    .dataframe tbody tr th {\n",
       "        vertical-align: top;\n",
       "    }\n",
       "\n",
       "    .dataframe thead th {\n",
       "        text-align: right;\n",
       "    }\n",
       "</style>\n",
       "<table border=\"1\" class=\"dataframe\">\n",
       "  <thead>\n",
       "    <tr style=\"text-align: right;\">\n",
       "      <th></th>\n",
       "      <th>id_usuario</th>\n",
       "      <th>situacao_solicitacao</th>\n",
       "      <th>data_solicitacao</th>\n",
       "      <th>sexo</th>\n",
       "      <th>nascimento</th>\n",
       "      <th>nome_municipio_residencia</th>\n",
       "      <th>nome_municipio_solicitante</th>\n",
       "      <th>descricao_especialidade</th>\n",
       "      <th>complexidade</th>\n",
       "      <th>data_consulta</th>\n",
       "      <th>nome_municipio_executante</th>\n",
       "    </tr>\n",
       "  </thead>\n",
       "  <tbody>\n",
       "    <tr>\n",
       "      <th>0</th>\n",
       "      <td>False</td>\n",
       "      <td>False</td>\n",
       "      <td>False</td>\n",
       "      <td>False</td>\n",
       "      <td>False</td>\n",
       "      <td>False</td>\n",
       "      <td>False</td>\n",
       "      <td>False</td>\n",
       "      <td>False</td>\n",
       "      <td>False</td>\n",
       "      <td>False</td>\n",
       "    </tr>\n",
       "    <tr>\n",
       "      <th>1</th>\n",
       "      <td>False</td>\n",
       "      <td>False</td>\n",
       "      <td>False</td>\n",
       "      <td>False</td>\n",
       "      <td>False</td>\n",
       "      <td>False</td>\n",
       "      <td>False</td>\n",
       "      <td>False</td>\n",
       "      <td>False</td>\n",
       "      <td>False</td>\n",
       "      <td>False</td>\n",
       "    </tr>\n",
       "    <tr>\n",
       "      <th>2</th>\n",
       "      <td>False</td>\n",
       "      <td>False</td>\n",
       "      <td>False</td>\n",
       "      <td>False</td>\n",
       "      <td>False</td>\n",
       "      <td>False</td>\n",
       "      <td>False</td>\n",
       "      <td>False</td>\n",
       "      <td>False</td>\n",
       "      <td>False</td>\n",
       "      <td>False</td>\n",
       "    </tr>\n",
       "    <tr>\n",
       "      <th>3</th>\n",
       "      <td>False</td>\n",
       "      <td>False</td>\n",
       "      <td>False</td>\n",
       "      <td>False</td>\n",
       "      <td>False</td>\n",
       "      <td>False</td>\n",
       "      <td>False</td>\n",
       "      <td>False</td>\n",
       "      <td>False</td>\n",
       "      <td>False</td>\n",
       "      <td>False</td>\n",
       "    </tr>\n",
       "    <tr>\n",
       "      <th>6</th>\n",
       "      <td>False</td>\n",
       "      <td>False</td>\n",
       "      <td>False</td>\n",
       "      <td>False</td>\n",
       "      <td>False</td>\n",
       "      <td>False</td>\n",
       "      <td>False</td>\n",
       "      <td>False</td>\n",
       "      <td>False</td>\n",
       "      <td>False</td>\n",
       "      <td>False</td>\n",
       "    </tr>\n",
       "    <tr>\n",
       "      <th>...</th>\n",
       "      <td>...</td>\n",
       "      <td>...</td>\n",
       "      <td>...</td>\n",
       "      <td>...</td>\n",
       "      <td>...</td>\n",
       "      <td>...</td>\n",
       "      <td>...</td>\n",
       "      <td>...</td>\n",
       "      <td>...</td>\n",
       "      <td>...</td>\n",
       "      <td>...</td>\n",
       "    </tr>\n",
       "    <tr>\n",
       "      <th>1014306</th>\n",
       "      <td>False</td>\n",
       "      <td>False</td>\n",
       "      <td>False</td>\n",
       "      <td>False</td>\n",
       "      <td>False</td>\n",
       "      <td>False</td>\n",
       "      <td>False</td>\n",
       "      <td>False</td>\n",
       "      <td>False</td>\n",
       "      <td>False</td>\n",
       "      <td>False</td>\n",
       "    </tr>\n",
       "    <tr>\n",
       "      <th>1014310</th>\n",
       "      <td>False</td>\n",
       "      <td>False</td>\n",
       "      <td>False</td>\n",
       "      <td>False</td>\n",
       "      <td>False</td>\n",
       "      <td>False</td>\n",
       "      <td>False</td>\n",
       "      <td>False</td>\n",
       "      <td>False</td>\n",
       "      <td>False</td>\n",
       "      <td>False</td>\n",
       "    </tr>\n",
       "    <tr>\n",
       "      <th>1014315</th>\n",
       "      <td>False</td>\n",
       "      <td>False</td>\n",
       "      <td>False</td>\n",
       "      <td>False</td>\n",
       "      <td>False</td>\n",
       "      <td>False</td>\n",
       "      <td>False</td>\n",
       "      <td>False</td>\n",
       "      <td>False</td>\n",
       "      <td>False</td>\n",
       "      <td>False</td>\n",
       "    </tr>\n",
       "    <tr>\n",
       "      <th>1014316</th>\n",
       "      <td>False</td>\n",
       "      <td>False</td>\n",
       "      <td>False</td>\n",
       "      <td>False</td>\n",
       "      <td>False</td>\n",
       "      <td>False</td>\n",
       "      <td>False</td>\n",
       "      <td>False</td>\n",
       "      <td>False</td>\n",
       "      <td>False</td>\n",
       "      <td>False</td>\n",
       "    </tr>\n",
       "    <tr>\n",
       "      <th>1014317</th>\n",
       "      <td>False</td>\n",
       "      <td>False</td>\n",
       "      <td>False</td>\n",
       "      <td>False</td>\n",
       "      <td>False</td>\n",
       "      <td>False</td>\n",
       "      <td>False</td>\n",
       "      <td>False</td>\n",
       "      <td>False</td>\n",
       "      <td>False</td>\n",
       "      <td>False</td>\n",
       "    </tr>\n",
       "  </tbody>\n",
       "</table>\n",
       "<p>200429 rows × 11 columns</p>\n",
       "</div>"
      ],
      "text/plain": [
       "         id_usuario  situacao_solicitacao  data_solicitacao   sexo  \\\n",
       "0             False                 False             False  False   \n",
       "1             False                 False             False  False   \n",
       "2             False                 False             False  False   \n",
       "3             False                 False             False  False   \n",
       "6             False                 False             False  False   \n",
       "...             ...                   ...               ...    ...   \n",
       "1014306       False                 False             False  False   \n",
       "1014310       False                 False             False  False   \n",
       "1014315       False                 False             False  False   \n",
       "1014316       False                 False             False  False   \n",
       "1014317       False                 False             False  False   \n",
       "\n",
       "         nascimento  nome_municipio_residencia  nome_municipio_solicitante  \\\n",
       "0             False                      False                       False   \n",
       "1             False                      False                       False   \n",
       "2             False                      False                       False   \n",
       "3             False                      False                       False   \n",
       "6             False                      False                       False   \n",
       "...             ...                        ...                         ...   \n",
       "1014306       False                      False                       False   \n",
       "1014310       False                      False                       False   \n",
       "1014315       False                      False                       False   \n",
       "1014316       False                      False                       False   \n",
       "1014317       False                      False                       False   \n",
       "\n",
       "         descricao_especialidade  complexidade  data_consulta  \\\n",
       "0                          False         False          False   \n",
       "1                          False         False          False   \n",
       "2                          False         False          False   \n",
       "3                          False         False          False   \n",
       "6                          False         False          False   \n",
       "...                          ...           ...            ...   \n",
       "1014306                    False         False          False   \n",
       "1014310                    False         False          False   \n",
       "1014315                    False         False          False   \n",
       "1014316                    False         False          False   \n",
       "1014317                    False         False          False   \n",
       "\n",
       "         nome_municipio_executante  \n",
       "0                            False  \n",
       "1                            False  \n",
       "2                            False  \n",
       "3                            False  \n",
       "6                            False  \n",
       "...                            ...  \n",
       "1014306                      False  \n",
       "1014310                      False  \n",
       "1014315                      False  \n",
       "1014316                      False  \n",
       "1014317                      False  \n",
       "\n",
       "[200429 rows x 11 columns]"
      ]
     },
     "execution_count": 74,
     "metadata": {},
     "output_type": "execute_result"
    }
   ],
   "source": [
    "df.isnull()"
   ]
  },
  {
   "cell_type": "code",
   "execution_count": 75,
   "id": "2cce86c7",
   "metadata": {},
   "outputs": [
    {
     "name": "stdout",
     "output_type": "stream",
     "text": [
      "<class 'pandas.core.frame.DataFrame'>\n",
      "Int64Index: 200429 entries, 0 to 1014317\n",
      "Data columns (total 11 columns):\n",
      " #   Column                      Non-Null Count   Dtype   \n",
      "---  ------                      --------------   -----   \n",
      " 0   id_usuario                  200429 non-null  object  \n",
      " 1   situacao_solicitacao        200429 non-null  category\n",
      " 2   data_solicitacao            200429 non-null  object  \n",
      " 3   sexo                        200423 non-null  category\n",
      " 4   nascimento                  200429 non-null  object  \n",
      " 5   nome_municipio_residencia   200429 non-null  object  \n",
      " 6   nome_municipio_solicitante  200429 non-null  object  \n",
      " 7   descricao_especialidade     200429 non-null  object  \n",
      " 8   complexidade                200429 non-null  category\n",
      " 9   data_consulta               200429 non-null  object  \n",
      " 10  nome_municipio_executante   200429 non-null  object  \n",
      "dtypes: category(3), object(8)\n",
      "memory usage: 14.3+ MB\n"
     ]
    }
   ],
   "source": [
    "df.info()"
   ]
  },
  {
   "cell_type": "code",
   "execution_count": 76,
   "id": "f32a66e5",
   "metadata": {},
   "outputs": [
    {
     "data": {
      "text/html": [
       "<div>\n",
       "<style scoped>\n",
       "    .dataframe tbody tr th:only-of-type {\n",
       "        vertical-align: middle;\n",
       "    }\n",
       "\n",
       "    .dataframe tbody tr th {\n",
       "        vertical-align: top;\n",
       "    }\n",
       "\n",
       "    .dataframe thead th {\n",
       "        text-align: right;\n",
       "    }\n",
       "</style>\n",
       "<table border=\"1\" class=\"dataframe\">\n",
       "  <thead>\n",
       "    <tr style=\"text-align: right;\">\n",
       "      <th></th>\n",
       "      <th>situacao_solicitacao</th>\n",
       "      <th>sexo</th>\n",
       "      <th>complexidade</th>\n",
       "    </tr>\n",
       "  </thead>\n",
       "  <tbody>\n",
       "    <tr>\n",
       "      <th>count</th>\n",
       "      <td>200429</td>\n",
       "      <td>200423</td>\n",
       "      <td>200429</td>\n",
       "    </tr>\n",
       "    <tr>\n",
       "      <th>unique</th>\n",
       "      <td>2</td>\n",
       "      <td>2</td>\n",
       "      <td>2</td>\n",
       "    </tr>\n",
       "    <tr>\n",
       "      <th>top</th>\n",
       "      <td>REALIZADA</td>\n",
       "      <td>FEMININO</td>\n",
       "      <td>MEDIA</td>\n",
       "    </tr>\n",
       "    <tr>\n",
       "      <th>freq</th>\n",
       "      <td>188511</td>\n",
       "      <td>118590</td>\n",
       "      <td>167967</td>\n",
       "    </tr>\n",
       "  </tbody>\n",
       "</table>\n",
       "</div>"
      ],
      "text/plain": [
       "       situacao_solicitacao      sexo complexidade\n",
       "count                200429    200423       200429\n",
       "unique                    2         2            2\n",
       "top               REALIZADA  FEMININO        MEDIA\n",
       "freq                 188511    118590       167967"
      ]
     },
     "execution_count": 76,
     "metadata": {},
     "output_type": "execute_result"
    }
   ],
   "source": [
    "df.select_dtypes(include ='category').describe()"
   ]
  },
  {
   "cell_type": "markdown",
   "id": "17ca67a8",
   "metadata": {},
   "source": [
    "#### Quantidade de observações X Quantidade de variáveis"
   ]
  },
  {
   "cell_type": "code",
   "execution_count": 77,
   "id": "251df8b5",
   "metadata": {},
   "outputs": [
    {
     "data": {
      "text/plain": [
       "(200429, 11)"
      ]
     },
     "execution_count": 77,
     "metadata": {},
     "output_type": "execute_result"
    }
   ],
   "source": [
    "df.shape"
   ]
  },
  {
   "cell_type": "code",
   "execution_count": 78,
   "id": "09cc1c86",
   "metadata": {},
   "outputs": [
    {
     "name": "stdout",
     "output_type": "stream",
     "text": [
      "A base de dados apresenta 200429 resgistros de atendimentos e 11 variáveis\n"
     ]
    }
   ],
   "source": [
    " print('A base de dados apresenta {} resgistros de atendimentos e {} variáveis'. format(df.shape[0], df.shape[1]))"
   ]
  },
  {
   "cell_type": "code",
   "execution_count": 79,
   "id": "5a7451dc",
   "metadata": {},
   "outputs": [
    {
     "data": {
      "text/html": [
       "<div>\n",
       "<style scoped>\n",
       "    .dataframe tbody tr th:only-of-type {\n",
       "        vertical-align: middle;\n",
       "    }\n",
       "\n",
       "    .dataframe tbody tr th {\n",
       "        vertical-align: top;\n",
       "    }\n",
       "\n",
       "    .dataframe thead th {\n",
       "        text-align: right;\n",
       "    }\n",
       "</style>\n",
       "<table border=\"1\" class=\"dataframe\">\n",
       "  <thead>\n",
       "    <tr style=\"text-align: right;\">\n",
       "      <th>Variáveis</th>\n",
       "      <th>Tipos de dados</th>\n",
       "    </tr>\n",
       "  </thead>\n",
       "  <tbody>\n",
       "    <tr>\n",
       "      <th>id_usuario</th>\n",
       "      <td>object</td>\n",
       "    </tr>\n",
       "    <tr>\n",
       "      <th>situacao_solicitacao</th>\n",
       "      <td>category</td>\n",
       "    </tr>\n",
       "    <tr>\n",
       "      <th>data_solicitacao</th>\n",
       "      <td>object</td>\n",
       "    </tr>\n",
       "    <tr>\n",
       "      <th>sexo</th>\n",
       "      <td>category</td>\n",
       "    </tr>\n",
       "    <tr>\n",
       "      <th>nascimento</th>\n",
       "      <td>object</td>\n",
       "    </tr>\n",
       "    <tr>\n",
       "      <th>nome_municipio_residencia</th>\n",
       "      <td>object</td>\n",
       "    </tr>\n",
       "    <tr>\n",
       "      <th>nome_municipio_solicitante</th>\n",
       "      <td>object</td>\n",
       "    </tr>\n",
       "    <tr>\n",
       "      <th>descricao_especialidade</th>\n",
       "      <td>object</td>\n",
       "    </tr>\n",
       "    <tr>\n",
       "      <th>complexidade</th>\n",
       "      <td>category</td>\n",
       "    </tr>\n",
       "    <tr>\n",
       "      <th>data_consulta</th>\n",
       "      <td>object</td>\n",
       "    </tr>\n",
       "    <tr>\n",
       "      <th>nome_municipio_executante</th>\n",
       "      <td>object</td>\n",
       "    </tr>\n",
       "  </tbody>\n",
       "</table>\n",
       "</div>"
      ],
      "text/plain": [
       "Variáveis                  Tipos de dados\n",
       "id_usuario                         object\n",
       "situacao_solicitacao             category\n",
       "data_solicitacao                   object\n",
       "sexo                             category\n",
       "nascimento                         object\n",
       "nome_municipio_residencia          object\n",
       "nome_municipio_solicitante         object\n",
       "descricao_especialidade            object\n",
       "complexidade                     category\n",
       "data_consulta                      object\n",
       "nome_municipio_executante          object"
      ]
     },
     "execution_count": 79,
     "metadata": {},
     "output_type": "execute_result"
    }
   ],
   "source": [
    "tipos_de_dados = pd.DataFrame(df.dtypes, columns = ['Tipos de dados'])\n",
    "tipos_de_dados.columns.name = 'Variáveis'\n",
    "tipos_de_dados\n"
   ]
  },
  {
   "cell_type": "markdown",
   "id": "e9620799",
   "metadata": {},
   "source": [
    "#### Listando as primeiras linha"
   ]
  },
  {
   "cell_type": "code",
   "execution_count": 80,
   "id": "088d5b8a",
   "metadata": {},
   "outputs": [
    {
     "data": {
      "text/html": [
       "<div>\n",
       "<style scoped>\n",
       "    .dataframe tbody tr th:only-of-type {\n",
       "        vertical-align: middle;\n",
       "    }\n",
       "\n",
       "    .dataframe tbody tr th {\n",
       "        vertical-align: top;\n",
       "    }\n",
       "\n",
       "    .dataframe thead th {\n",
       "        text-align: right;\n",
       "    }\n",
       "</style>\n",
       "<table border=\"1\" class=\"dataframe\">\n",
       "  <thead>\n",
       "    <tr style=\"text-align: right;\">\n",
       "      <th></th>\n",
       "      <th>id_usuario</th>\n",
       "      <th>situacao_solicitacao</th>\n",
       "      <th>data_solicitacao</th>\n",
       "      <th>sexo</th>\n",
       "      <th>nascimento</th>\n",
       "      <th>nome_municipio_residencia</th>\n",
       "      <th>nome_municipio_solicitante</th>\n",
       "      <th>descricao_especialidade</th>\n",
       "      <th>complexidade</th>\n",
       "      <th>data_consulta</th>\n",
       "      <th>nome_municipio_executante</th>\n",
       "    </tr>\n",
       "  </thead>\n",
       "  <tbody>\n",
       "    <tr>\n",
       "      <th>0</th>\n",
       "      <td>8fab57d2235d17307057a27516602f42</td>\n",
       "      <td>REALIZADA</td>\n",
       "      <td>2020-01-02</td>\n",
       "      <td>MASCULINO</td>\n",
       "      <td>1972-07</td>\n",
       "      <td>PORTO ALEGRE</td>\n",
       "      <td>PORTO ALEGRE</td>\n",
       "      <td>INFECTOLOGIA HIV ADULTO</td>\n",
       "      <td>MEDIA</td>\n",
       "      <td>2020-07-27</td>\n",
       "      <td>PORTO ALEGRE</td>\n",
       "    </tr>\n",
       "    <tr>\n",
       "      <th>1</th>\n",
       "      <td>8fab57d2235d17307057a27516602f42</td>\n",
       "      <td>REALIZADA</td>\n",
       "      <td>2020-01-02</td>\n",
       "      <td>MASCULINO</td>\n",
       "      <td>1972-07</td>\n",
       "      <td>PORTO ALEGRE</td>\n",
       "      <td>PORTO ALEGRE</td>\n",
       "      <td>INFECTOLOGIA HIV ADULTO</td>\n",
       "      <td>MEDIA</td>\n",
       "      <td>2020-01-14</td>\n",
       "      <td>PORTO ALEGRE</td>\n",
       "    </tr>\n",
       "    <tr>\n",
       "      <th>2</th>\n",
       "      <td>7e58c81f6cf1d214f2fba5e1adbaa229</td>\n",
       "      <td>CANCELADA</td>\n",
       "      <td>2020-01-02</td>\n",
       "      <td>MASCULINO</td>\n",
       "      <td>2016-08</td>\n",
       "      <td>PORTO ALEGRE</td>\n",
       "      <td>PORTO ALEGRE</td>\n",
       "      <td>REABILITAÇÃO INTELECTUAL</td>\n",
       "      <td>MEDIA</td>\n",
       "      <td>2020-05-18</td>\n",
       "      <td>PORTO ALEGRE</td>\n",
       "    </tr>\n",
       "    <tr>\n",
       "      <th>3</th>\n",
       "      <td>dc57748b078b0da9da4f1d2a422d95e8</td>\n",
       "      <td>REALIZADA</td>\n",
       "      <td>2020-01-06</td>\n",
       "      <td>FEMININO</td>\n",
       "      <td>1990-02</td>\n",
       "      <td>PORTO ALEGRE</td>\n",
       "      <td>PORTO ALEGRE</td>\n",
       "      <td>NUTRICAO ADULTO</td>\n",
       "      <td>MEDIA</td>\n",
       "      <td>2020-03-03</td>\n",
       "      <td>PORTO ALEGRE</td>\n",
       "    </tr>\n",
       "    <tr>\n",
       "      <th>6</th>\n",
       "      <td>f22b34d93fe8fb4e9593931aa032c9c1</td>\n",
       "      <td>REALIZADA</td>\n",
       "      <td>2020-01-02</td>\n",
       "      <td>FEMININO</td>\n",
       "      <td>1962-11</td>\n",
       "      <td>PORTO ALEGRE</td>\n",
       "      <td>PORTO ALEGRE</td>\n",
       "      <td>REGULARIZACAO DE ACESSO</td>\n",
       "      <td>ALTA</td>\n",
       "      <td>2020-01-06</td>\n",
       "      <td>PORTO ALEGRE</td>\n",
       "    </tr>\n",
       "    <tr>\n",
       "      <th>13</th>\n",
       "      <td>d7476c98b4705836f311abae8411c6ca</td>\n",
       "      <td>REALIZADA</td>\n",
       "      <td>2020-01-06</td>\n",
       "      <td>FEMININO</td>\n",
       "      <td>1951-09</td>\n",
       "      <td>PORTO ALEGRE</td>\n",
       "      <td>PORTO ALEGRE</td>\n",
       "      <td>REUMATOLOGIA ADULTO</td>\n",
       "      <td>MEDIA</td>\n",
       "      <td>2020-02-14</td>\n",
       "      <td>PORTO ALEGRE</td>\n",
       "    </tr>\n",
       "    <tr>\n",
       "      <th>22</th>\n",
       "      <td>8ee1c1b6614ca9e33c7768a38f0cf584</td>\n",
       "      <td>REALIZADA</td>\n",
       "      <td>2020-01-08</td>\n",
       "      <td>FEMININO</td>\n",
       "      <td>1954-05</td>\n",
       "      <td>PORTO ALEGRE</td>\n",
       "      <td>PORTO ALEGRE</td>\n",
       "      <td>CURATIVOS ESPECIALIZADOS</td>\n",
       "      <td>MEDIA</td>\n",
       "      <td>2020-04-16</td>\n",
       "      <td>PORTO ALEGRE</td>\n",
       "    </tr>\n",
       "    <tr>\n",
       "      <th>30</th>\n",
       "      <td>cc1a37fcfbe901d816eadee107f079ad</td>\n",
       "      <td>REALIZADA</td>\n",
       "      <td>2020-01-07</td>\n",
       "      <td>FEMININO</td>\n",
       "      <td>1956-10</td>\n",
       "      <td>PORTO ALEGRE</td>\n",
       "      <td>PORTO ALEGRE</td>\n",
       "      <td>GINECOLOGIA CLIMATERIO</td>\n",
       "      <td>MEDIA</td>\n",
       "      <td>2020-01-27</td>\n",
       "      <td>PORTO ALEGRE</td>\n",
       "    </tr>\n",
       "    <tr>\n",
       "      <th>32</th>\n",
       "      <td>5317f0667c29f00c484a95ad09b50b04</td>\n",
       "      <td>REALIZADA</td>\n",
       "      <td>2020-01-06</td>\n",
       "      <td>FEMININO</td>\n",
       "      <td>1966-04</td>\n",
       "      <td>PORTO ALEGRE</td>\n",
       "      <td>PORTO ALEGRE</td>\n",
       "      <td>REUMATOLOGIA ADULTO</td>\n",
       "      <td>MEDIA</td>\n",
       "      <td>2021-03-26</td>\n",
       "      <td>PORTO ALEGRE</td>\n",
       "    </tr>\n",
       "    <tr>\n",
       "      <th>43</th>\n",
       "      <td>d7476c98b4705836f311abae8411c6ca</td>\n",
       "      <td>REALIZADA</td>\n",
       "      <td>2020-01-06</td>\n",
       "      <td>FEMININO</td>\n",
       "      <td>1951-09</td>\n",
       "      <td>PORTO ALEGRE</td>\n",
       "      <td>PORTO ALEGRE</td>\n",
       "      <td>REUMATOLOGIA ADULTO</td>\n",
       "      <td>MEDIA</td>\n",
       "      <td>2020-09-17</td>\n",
       "      <td>PORTO ALEGRE</td>\n",
       "    </tr>\n",
       "  </tbody>\n",
       "</table>\n",
       "</div>"
      ],
      "text/plain": [
       "                          id_usuario situacao_solicitacao data_solicitacao  \\\n",
       "0   8fab57d2235d17307057a27516602f42            REALIZADA       2020-01-02   \n",
       "1   8fab57d2235d17307057a27516602f42            REALIZADA       2020-01-02   \n",
       "2   7e58c81f6cf1d214f2fba5e1adbaa229            CANCELADA       2020-01-02   \n",
       "3   dc57748b078b0da9da4f1d2a422d95e8            REALIZADA       2020-01-06   \n",
       "6   f22b34d93fe8fb4e9593931aa032c9c1            REALIZADA       2020-01-02   \n",
       "13  d7476c98b4705836f311abae8411c6ca            REALIZADA       2020-01-06   \n",
       "22  8ee1c1b6614ca9e33c7768a38f0cf584            REALIZADA       2020-01-08   \n",
       "30  cc1a37fcfbe901d816eadee107f079ad            REALIZADA       2020-01-07   \n",
       "32  5317f0667c29f00c484a95ad09b50b04            REALIZADA       2020-01-06   \n",
       "43  d7476c98b4705836f311abae8411c6ca            REALIZADA       2020-01-06   \n",
       "\n",
       "         sexo nascimento nome_municipio_residencia nome_municipio_solicitante  \\\n",
       "0   MASCULINO    1972-07              PORTO ALEGRE               PORTO ALEGRE   \n",
       "1   MASCULINO    1972-07              PORTO ALEGRE               PORTO ALEGRE   \n",
       "2   MASCULINO    2016-08              PORTO ALEGRE               PORTO ALEGRE   \n",
       "3    FEMININO    1990-02              PORTO ALEGRE               PORTO ALEGRE   \n",
       "6    FEMININO    1962-11              PORTO ALEGRE               PORTO ALEGRE   \n",
       "13   FEMININO    1951-09              PORTO ALEGRE               PORTO ALEGRE   \n",
       "22   FEMININO    1954-05              PORTO ALEGRE               PORTO ALEGRE   \n",
       "30   FEMININO    1956-10              PORTO ALEGRE               PORTO ALEGRE   \n",
       "32   FEMININO    1966-04              PORTO ALEGRE               PORTO ALEGRE   \n",
       "43   FEMININO    1951-09              PORTO ALEGRE               PORTO ALEGRE   \n",
       "\n",
       "     descricao_especialidade complexidade data_consulta  \\\n",
       "0    INFECTOLOGIA HIV ADULTO        MEDIA    2020-07-27   \n",
       "1    INFECTOLOGIA HIV ADULTO        MEDIA    2020-01-14   \n",
       "2   REABILITAÇÃO INTELECTUAL        MEDIA    2020-05-18   \n",
       "3            NUTRICAO ADULTO        MEDIA    2020-03-03   \n",
       "6    REGULARIZACAO DE ACESSO         ALTA    2020-01-06   \n",
       "13       REUMATOLOGIA ADULTO        MEDIA    2020-02-14   \n",
       "22  CURATIVOS ESPECIALIZADOS        MEDIA    2020-04-16   \n",
       "30    GINECOLOGIA CLIMATERIO        MEDIA    2020-01-27   \n",
       "32       REUMATOLOGIA ADULTO        MEDIA    2021-03-26   \n",
       "43       REUMATOLOGIA ADULTO        MEDIA    2020-09-17   \n",
       "\n",
       "   nome_municipio_executante  \n",
       "0               PORTO ALEGRE  \n",
       "1               PORTO ALEGRE  \n",
       "2               PORTO ALEGRE  \n",
       "3               PORTO ALEGRE  \n",
       "6               PORTO ALEGRE  \n",
       "13              PORTO ALEGRE  \n",
       "22              PORTO ALEGRE  \n",
       "30              PORTO ALEGRE  \n",
       "32              PORTO ALEGRE  \n",
       "43              PORTO ALEGRE  "
      ]
     },
     "execution_count": 80,
     "metadata": {},
     "output_type": "execute_result"
    }
   ],
   "source": [
    "df.head(10)"
   ]
  },
  {
   "cell_type": "markdown",
   "id": "c03a5c07",
   "metadata": {},
   "source": [
    "#### Quantidade de consultas por especialidade"
   ]
  },
  {
   "cell_type": "code",
   "execution_count": 81,
   "id": "dfd11e35",
   "metadata": {},
   "outputs": [
    {
     "data": {
      "text/plain": [
       "descricao_especialidade\n",
       "ACUPUNTURA GERAL                                     1169\n",
       "ADOLESCENCIA/HEBIATRIA                                127\n",
       "ANDROLOGIA ADULTO                                      73\n",
       "APOIO ONCOLOGIA ICI                                    71\n",
       "CARDIOLOGIA ADULTO                                  19712\n",
       "CARDIOLOGIA ARRITMIA                                 1238\n",
       "CARDIOLOGIA AVALIACAO PRE-TRANSPLANTE                  84\n",
       "CARDIOLOGIA AVALIACAO PRE-TRANSPLANTE PEDIATRICO        6\n",
       "CARDIOLOGIA CARDIOPATIA ISQUEMICA                      18\n",
       "CARDIOLOGIA PEDIÁTRICA                               2637\n",
       "Name: data_consulta, dtype: int64"
      ]
     },
     "execution_count": 81,
     "metadata": {},
     "output_type": "execute_result"
    }
   ],
   "source": [
    "quant_por_especialidade = df.groupby(\"descricao_especialidade\").count()[\"data_consulta\"]\n",
    "quant_por_especialidade.head(10)"
   ]
  },
  {
   "cell_type": "markdown",
   "id": "b9750945",
   "metadata": {},
   "source": [
    "#### Para realizar a analise nos interessa somente os atendimentos realizados ou que foram cancelados,  e precisaremos incluir uma nova coluna \"num_dias\" com o numero de dias entre a data da solicitação e a data da consulta"
   ]
  },
  {
   "cell_type": "code",
   "execution_count": 82,
   "id": "08b59812",
   "metadata": {},
   "outputs": [],
   "source": [
    "df['data_consulta'] = pd.to_datetime(df.data_consulta, format='%Y-%m-%d')"
   ]
  },
  {
   "cell_type": "code",
   "execution_count": 83,
   "id": "15e3dc6f",
   "metadata": {},
   "outputs": [],
   "source": [
    "df['data_solicitacao'] = pd.to_datetime(df.data_solicitacao, format='%Y-%m-%d')"
   ]
  },
  {
   "cell_type": "code",
   "execution_count": 84,
   "id": "5876b12e",
   "metadata": {},
   "outputs": [
    {
     "name": "stdout",
     "output_type": "stream",
     "text": [
      "<class 'pandas.core.frame.DataFrame'>\n",
      "Int64Index: 200429 entries, 0 to 1014317\n",
      "Data columns (total 11 columns):\n",
      " #   Column                      Non-Null Count   Dtype         \n",
      "---  ------                      --------------   -----         \n",
      " 0   id_usuario                  200429 non-null  object        \n",
      " 1   situacao_solicitacao        200429 non-null  category      \n",
      " 2   data_solicitacao            200429 non-null  datetime64[ns]\n",
      " 3   sexo                        200423 non-null  category      \n",
      " 4   nascimento                  200429 non-null  object        \n",
      " 5   nome_municipio_residencia   200429 non-null  object        \n",
      " 6   nome_municipio_solicitante  200429 non-null  object        \n",
      " 7   descricao_especialidade     200429 non-null  object        \n",
      " 8   complexidade                200429 non-null  category      \n",
      " 9   data_consulta               200429 non-null  datetime64[ns]\n",
      " 10  nome_municipio_executante   200429 non-null  object        \n",
      "dtypes: category(3), datetime64[ns](2), object(6)\n",
      "memory usage: 14.3+ MB\n"
     ]
    }
   ],
   "source": [
    "df.info()"
   ]
  },
  {
   "cell_type": "markdown",
   "id": "e63b2e27",
   "metadata": {},
   "source": [
    "#### Criando a coluna num de dias entre a solicitação e a realização da consulta"
   ]
  },
  {
   "cell_type": "code",
   "execution_count": 85,
   "id": "9bf9f5da",
   "metadata": {},
   "outputs": [
    {
     "data": {
      "text/html": [
       "<div>\n",
       "<style scoped>\n",
       "    .dataframe tbody tr th:only-of-type {\n",
       "        vertical-align: middle;\n",
       "    }\n",
       "\n",
       "    .dataframe tbody tr th {\n",
       "        vertical-align: top;\n",
       "    }\n",
       "\n",
       "    .dataframe thead th {\n",
       "        text-align: right;\n",
       "    }\n",
       "</style>\n",
       "<table border=\"1\" class=\"dataframe\">\n",
       "  <thead>\n",
       "    <tr style=\"text-align: right;\">\n",
       "      <th></th>\n",
       "      <th>id_usuario</th>\n",
       "      <th>situacao_solicitacao</th>\n",
       "      <th>data_solicitacao</th>\n",
       "      <th>sexo</th>\n",
       "      <th>nascimento</th>\n",
       "      <th>nome_municipio_residencia</th>\n",
       "      <th>nome_municipio_solicitante</th>\n",
       "      <th>descricao_especialidade</th>\n",
       "      <th>complexidade</th>\n",
       "      <th>data_consulta</th>\n",
       "      <th>nome_municipio_executante</th>\n",
       "      <th>num_dias</th>\n",
       "    </tr>\n",
       "  </thead>\n",
       "  <tbody>\n",
       "    <tr>\n",
       "      <th>0</th>\n",
       "      <td>8fab57d2235d17307057a27516602f42</td>\n",
       "      <td>REALIZADA</td>\n",
       "      <td>2020-01-02</td>\n",
       "      <td>MASCULINO</td>\n",
       "      <td>1972-07</td>\n",
       "      <td>PORTO ALEGRE</td>\n",
       "      <td>PORTO ALEGRE</td>\n",
       "      <td>INFECTOLOGIA HIV ADULTO</td>\n",
       "      <td>MEDIA</td>\n",
       "      <td>2020-07-27</td>\n",
       "      <td>PORTO ALEGRE</td>\n",
       "      <td>207 days</td>\n",
       "    </tr>\n",
       "    <tr>\n",
       "      <th>1</th>\n",
       "      <td>8fab57d2235d17307057a27516602f42</td>\n",
       "      <td>REALIZADA</td>\n",
       "      <td>2020-01-02</td>\n",
       "      <td>MASCULINO</td>\n",
       "      <td>1972-07</td>\n",
       "      <td>PORTO ALEGRE</td>\n",
       "      <td>PORTO ALEGRE</td>\n",
       "      <td>INFECTOLOGIA HIV ADULTO</td>\n",
       "      <td>MEDIA</td>\n",
       "      <td>2020-01-14</td>\n",
       "      <td>PORTO ALEGRE</td>\n",
       "      <td>12 days</td>\n",
       "    </tr>\n",
       "    <tr>\n",
       "      <th>2</th>\n",
       "      <td>7e58c81f6cf1d214f2fba5e1adbaa229</td>\n",
       "      <td>CANCELADA</td>\n",
       "      <td>2020-01-02</td>\n",
       "      <td>MASCULINO</td>\n",
       "      <td>2016-08</td>\n",
       "      <td>PORTO ALEGRE</td>\n",
       "      <td>PORTO ALEGRE</td>\n",
       "      <td>REABILITAÇÃO INTELECTUAL</td>\n",
       "      <td>MEDIA</td>\n",
       "      <td>2020-05-18</td>\n",
       "      <td>PORTO ALEGRE</td>\n",
       "      <td>137 days</td>\n",
       "    </tr>\n",
       "    <tr>\n",
       "      <th>3</th>\n",
       "      <td>dc57748b078b0da9da4f1d2a422d95e8</td>\n",
       "      <td>REALIZADA</td>\n",
       "      <td>2020-01-06</td>\n",
       "      <td>FEMININO</td>\n",
       "      <td>1990-02</td>\n",
       "      <td>PORTO ALEGRE</td>\n",
       "      <td>PORTO ALEGRE</td>\n",
       "      <td>NUTRICAO ADULTO</td>\n",
       "      <td>MEDIA</td>\n",
       "      <td>2020-03-03</td>\n",
       "      <td>PORTO ALEGRE</td>\n",
       "      <td>57 days</td>\n",
       "    </tr>\n",
       "    <tr>\n",
       "      <th>6</th>\n",
       "      <td>f22b34d93fe8fb4e9593931aa032c9c1</td>\n",
       "      <td>REALIZADA</td>\n",
       "      <td>2020-01-02</td>\n",
       "      <td>FEMININO</td>\n",
       "      <td>1962-11</td>\n",
       "      <td>PORTO ALEGRE</td>\n",
       "      <td>PORTO ALEGRE</td>\n",
       "      <td>REGULARIZACAO DE ACESSO</td>\n",
       "      <td>ALTA</td>\n",
       "      <td>2020-01-06</td>\n",
       "      <td>PORTO ALEGRE</td>\n",
       "      <td>4 days</td>\n",
       "    </tr>\n",
       "    <tr>\n",
       "      <th>...</th>\n",
       "      <td>...</td>\n",
       "      <td>...</td>\n",
       "      <td>...</td>\n",
       "      <td>...</td>\n",
       "      <td>...</td>\n",
       "      <td>...</td>\n",
       "      <td>...</td>\n",
       "      <td>...</td>\n",
       "      <td>...</td>\n",
       "      <td>...</td>\n",
       "      <td>...</td>\n",
       "      <td>...</td>\n",
       "    </tr>\n",
       "    <tr>\n",
       "      <th>1014306</th>\n",
       "      <td>1d4ea96ddf2083577a1332de2ea4fe19</td>\n",
       "      <td>REALIZADA</td>\n",
       "      <td>2020-02-20</td>\n",
       "      <td>FEMININO</td>\n",
       "      <td>1987-08</td>\n",
       "      <td>PORTO ALEGRE</td>\n",
       "      <td>PORTO ALEGRE</td>\n",
       "      <td>GINECOLOGIA GERAL</td>\n",
       "      <td>MEDIA</td>\n",
       "      <td>2020-08-31</td>\n",
       "      <td>PORTO ALEGRE</td>\n",
       "      <td>193 days</td>\n",
       "    </tr>\n",
       "    <tr>\n",
       "      <th>1014310</th>\n",
       "      <td>45853701b0f65ca1676f55f9e5adcbfc</td>\n",
       "      <td>REALIZADA</td>\n",
       "      <td>2020-12-15</td>\n",
       "      <td>MASCULINO</td>\n",
       "      <td>1945-11</td>\n",
       "      <td>VIAMAO</td>\n",
       "      <td>VIAMAO</td>\n",
       "      <td>CARDIOLOGIA ADULTO</td>\n",
       "      <td>MEDIA</td>\n",
       "      <td>2021-01-28</td>\n",
       "      <td>PORTO ALEGRE</td>\n",
       "      <td>44 days</td>\n",
       "    </tr>\n",
       "    <tr>\n",
       "      <th>1014315</th>\n",
       "      <td>4b5182dbd599de8a1f33c0f10e3f3836</td>\n",
       "      <td>REALIZADA</td>\n",
       "      <td>2020-02-07</td>\n",
       "      <td>FEMININO</td>\n",
       "      <td>1985-12</td>\n",
       "      <td>PORTO ALEGRE</td>\n",
       "      <td>PORTO ALEGRE</td>\n",
       "      <td>OTORRINOLARINGOLOGIA ADULTO</td>\n",
       "      <td>MEDIA</td>\n",
       "      <td>2020-02-20</td>\n",
       "      <td>PORTO ALEGRE</td>\n",
       "      <td>13 days</td>\n",
       "    </tr>\n",
       "    <tr>\n",
       "      <th>1014316</th>\n",
       "      <td>9f248583948140cc251796b678dd360d</td>\n",
       "      <td>REALIZADA</td>\n",
       "      <td>2020-10-06</td>\n",
       "      <td>MASCULINO</td>\n",
       "      <td>2020-09</td>\n",
       "      <td>PORTO ALEGRE</td>\n",
       "      <td>PORTO ALEGRE</td>\n",
       "      <td>PEDIATRIA  GERAL</td>\n",
       "      <td>MEDIA</td>\n",
       "      <td>2021-05-12</td>\n",
       "      <td>PORTO ALEGRE</td>\n",
       "      <td>218 days</td>\n",
       "    </tr>\n",
       "    <tr>\n",
       "      <th>1014317</th>\n",
       "      <td>9a3ab713714f42c89776f969a9b3180d</td>\n",
       "      <td>REALIZADA</td>\n",
       "      <td>2020-01-20</td>\n",
       "      <td>FEMININO</td>\n",
       "      <td>1980-02</td>\n",
       "      <td>PORTO ALEGRE</td>\n",
       "      <td>PORTO ALEGRE</td>\n",
       "      <td>INFECTOLOGIA HIV ADULTO</td>\n",
       "      <td>MEDIA</td>\n",
       "      <td>2020-03-09</td>\n",
       "      <td>PORTO ALEGRE</td>\n",
       "      <td>49 days</td>\n",
       "    </tr>\n",
       "  </tbody>\n",
       "</table>\n",
       "<p>200429 rows × 12 columns</p>\n",
       "</div>"
      ],
      "text/plain": [
       "                               id_usuario situacao_solicitacao  \\\n",
       "0        8fab57d2235d17307057a27516602f42            REALIZADA   \n",
       "1        8fab57d2235d17307057a27516602f42            REALIZADA   \n",
       "2        7e58c81f6cf1d214f2fba5e1adbaa229            CANCELADA   \n",
       "3        dc57748b078b0da9da4f1d2a422d95e8            REALIZADA   \n",
       "6        f22b34d93fe8fb4e9593931aa032c9c1            REALIZADA   \n",
       "...                                   ...                  ...   \n",
       "1014306  1d4ea96ddf2083577a1332de2ea4fe19            REALIZADA   \n",
       "1014310  45853701b0f65ca1676f55f9e5adcbfc            REALIZADA   \n",
       "1014315  4b5182dbd599de8a1f33c0f10e3f3836            REALIZADA   \n",
       "1014316  9f248583948140cc251796b678dd360d            REALIZADA   \n",
       "1014317  9a3ab713714f42c89776f969a9b3180d            REALIZADA   \n",
       "\n",
       "        data_solicitacao       sexo nascimento nome_municipio_residencia  \\\n",
       "0             2020-01-02  MASCULINO    1972-07              PORTO ALEGRE   \n",
       "1             2020-01-02  MASCULINO    1972-07              PORTO ALEGRE   \n",
       "2             2020-01-02  MASCULINO    2016-08              PORTO ALEGRE   \n",
       "3             2020-01-06   FEMININO    1990-02              PORTO ALEGRE   \n",
       "6             2020-01-02   FEMININO    1962-11              PORTO ALEGRE   \n",
       "...                  ...        ...        ...                       ...   \n",
       "1014306       2020-02-20   FEMININO    1987-08              PORTO ALEGRE   \n",
       "1014310       2020-12-15  MASCULINO    1945-11                    VIAMAO   \n",
       "1014315       2020-02-07   FEMININO    1985-12              PORTO ALEGRE   \n",
       "1014316       2020-10-06  MASCULINO    2020-09              PORTO ALEGRE   \n",
       "1014317       2020-01-20   FEMININO    1980-02              PORTO ALEGRE   \n",
       "\n",
       "        nome_municipio_solicitante      descricao_especialidade complexidade  \\\n",
       "0                     PORTO ALEGRE      INFECTOLOGIA HIV ADULTO        MEDIA   \n",
       "1                     PORTO ALEGRE      INFECTOLOGIA HIV ADULTO        MEDIA   \n",
       "2                     PORTO ALEGRE     REABILITAÇÃO INTELECTUAL        MEDIA   \n",
       "3                     PORTO ALEGRE              NUTRICAO ADULTO        MEDIA   \n",
       "6                     PORTO ALEGRE      REGULARIZACAO DE ACESSO         ALTA   \n",
       "...                            ...                          ...          ...   \n",
       "1014306               PORTO ALEGRE            GINECOLOGIA GERAL        MEDIA   \n",
       "1014310                     VIAMAO           CARDIOLOGIA ADULTO        MEDIA   \n",
       "1014315               PORTO ALEGRE  OTORRINOLARINGOLOGIA ADULTO        MEDIA   \n",
       "1014316               PORTO ALEGRE             PEDIATRIA  GERAL        MEDIA   \n",
       "1014317               PORTO ALEGRE      INFECTOLOGIA HIV ADULTO        MEDIA   \n",
       "\n",
       "        data_consulta nome_municipio_executante num_dias  \n",
       "0          2020-07-27              PORTO ALEGRE 207 days  \n",
       "1          2020-01-14              PORTO ALEGRE  12 days  \n",
       "2          2020-05-18              PORTO ALEGRE 137 days  \n",
       "3          2020-03-03              PORTO ALEGRE  57 days  \n",
       "6          2020-01-06              PORTO ALEGRE   4 days  \n",
       "...               ...                       ...      ...  \n",
       "1014306    2020-08-31              PORTO ALEGRE 193 days  \n",
       "1014310    2021-01-28              PORTO ALEGRE  44 days  \n",
       "1014315    2020-02-20              PORTO ALEGRE  13 days  \n",
       "1014316    2021-05-12              PORTO ALEGRE 218 days  \n",
       "1014317    2020-03-09              PORTO ALEGRE  49 days  \n",
       "\n",
       "[200429 rows x 12 columns]"
      ]
     },
     "execution_count": 85,
     "metadata": {},
     "output_type": "execute_result"
    }
   ],
   "source": [
    "df['num_dias'] = abs(df['data_consulta']- df['data_solicitacao'])\n",
    "\n",
    "df"
   ]
  },
  {
   "cell_type": "code",
   "execution_count": 86,
   "id": "cf077eb1",
   "metadata": {},
   "outputs": [
    {
     "data": {
      "text/html": [
       "<div>\n",
       "<style scoped>\n",
       "    .dataframe tbody tr th:only-of-type {\n",
       "        vertical-align: middle;\n",
       "    }\n",
       "\n",
       "    .dataframe tbody tr th {\n",
       "        vertical-align: top;\n",
       "    }\n",
       "\n",
       "    .dataframe thead th {\n",
       "        text-align: right;\n",
       "    }\n",
       "</style>\n",
       "<table border=\"1\" class=\"dataframe\">\n",
       "  <thead>\n",
       "    <tr style=\"text-align: right;\">\n",
       "      <th></th>\n",
       "      <th>num_dias</th>\n",
       "    </tr>\n",
       "  </thead>\n",
       "  <tbody>\n",
       "    <tr>\n",
       "      <th>count</th>\n",
       "      <td>200429</td>\n",
       "    </tr>\n",
       "    <tr>\n",
       "      <th>mean</th>\n",
       "      <td>135 days 08:19:03.786577788</td>\n",
       "    </tr>\n",
       "    <tr>\n",
       "      <th>std</th>\n",
       "      <td>136 days 14:57:25.080710784</td>\n",
       "    </tr>\n",
       "    <tr>\n",
       "      <th>min</th>\n",
       "      <td>0 days 00:00:00</td>\n",
       "    </tr>\n",
       "    <tr>\n",
       "      <th>25%</th>\n",
       "      <td>25 days 00:00:00</td>\n",
       "    </tr>\n",
       "    <tr>\n",
       "      <th>50%</th>\n",
       "      <td>81 days 00:00:00</td>\n",
       "    </tr>\n",
       "    <tr>\n",
       "      <th>75%</th>\n",
       "      <td>215 days 00:00:00</td>\n",
       "    </tr>\n",
       "    <tr>\n",
       "      <th>max</th>\n",
       "      <td>746 days 00:00:00</td>\n",
       "    </tr>\n",
       "  </tbody>\n",
       "</table>\n",
       "</div>"
      ],
      "text/plain": [
       "                          num_dias\n",
       "count                       200429\n",
       "mean   135 days 08:19:03.786577788\n",
       "std    136 days 14:57:25.080710784\n",
       "min                0 days 00:00:00\n",
       "25%               25 days 00:00:00\n",
       "50%               81 days 00:00:00\n",
       "75%              215 days 00:00:00\n",
       "max              746 days 00:00:00"
      ]
     },
     "execution_count": 86,
     "metadata": {},
     "output_type": "execute_result"
    }
   ],
   "source": [
    "df.describe()"
   ]
  },
  {
   "cell_type": "code",
   "execution_count": 87,
   "id": "b6453b2b",
   "metadata": {},
   "outputs": [
    {
     "name": "stdout",
     "output_type": "stream",
     "text": [
      "<class 'pandas.core.frame.DataFrame'>\n",
      "Int64Index: 200429 entries, 0 to 1014317\n",
      "Data columns (total 12 columns):\n",
      " #   Column                      Non-Null Count   Dtype          \n",
      "---  ------                      --------------   -----          \n",
      " 0   id_usuario                  200429 non-null  object         \n",
      " 1   situacao_solicitacao        200429 non-null  category       \n",
      " 2   data_solicitacao            200429 non-null  datetime64[ns] \n",
      " 3   sexo                        200423 non-null  category       \n",
      " 4   nascimento                  200429 non-null  object         \n",
      " 5   nome_municipio_residencia   200429 non-null  object         \n",
      " 6   nome_municipio_solicitante  200429 non-null  object         \n",
      " 7   descricao_especialidade     200429 non-null  object         \n",
      " 8   complexidade                200429 non-null  category       \n",
      " 9   data_consulta               200429 non-null  datetime64[ns] \n",
      " 10  nome_municipio_executante   200429 non-null  object         \n",
      " 11  num_dias                    200429 non-null  timedelta64[ns]\n",
      "dtypes: category(3), datetime64[ns](2), object(6), timedelta64[ns](1)\n",
      "memory usage: 15.9+ MB\n"
     ]
    }
   ],
   "source": [
    "df.info()"
   ]
  },
  {
   "cell_type": "markdown",
   "id": "cc94fffe",
   "metadata": {},
   "source": [
    "#### Filtrandos somente consultas realizadas e e com data difrenete de null. Após esse seleção os valores nulos do dataset serão eliminados"
   ]
  },
  {
   "cell_type": "code",
   "execution_count": 88,
   "id": "0cefda55",
   "metadata": {},
   "outputs": [
    {
     "data": {
      "text/html": [
       "<div>\n",
       "<style scoped>\n",
       "    .dataframe tbody tr th:only-of-type {\n",
       "        vertical-align: middle;\n",
       "    }\n",
       "\n",
       "    .dataframe tbody tr th {\n",
       "        vertical-align: top;\n",
       "    }\n",
       "\n",
       "    .dataframe thead th {\n",
       "        text-align: right;\n",
       "    }\n",
       "</style>\n",
       "<table border=\"1\" class=\"dataframe\">\n",
       "  <thead>\n",
       "    <tr style=\"text-align: right;\">\n",
       "      <th></th>\n",
       "      <th>id_usuario</th>\n",
       "      <th>situacao_solicitacao</th>\n",
       "      <th>data_solicitacao</th>\n",
       "      <th>sexo</th>\n",
       "      <th>nascimento</th>\n",
       "      <th>nome_municipio_residencia</th>\n",
       "      <th>nome_municipio_solicitante</th>\n",
       "      <th>descricao_especialidade</th>\n",
       "      <th>complexidade</th>\n",
       "      <th>data_consulta</th>\n",
       "      <th>nome_municipio_executante</th>\n",
       "      <th>num_dias</th>\n",
       "    </tr>\n",
       "  </thead>\n",
       "  <tbody>\n",
       "    <tr>\n",
       "      <th>0</th>\n",
       "      <td>8fab57d2235d17307057a27516602f42</td>\n",
       "      <td>REALIZADA</td>\n",
       "      <td>2020-01-02</td>\n",
       "      <td>MASCULINO</td>\n",
       "      <td>1972-07</td>\n",
       "      <td>PORTO ALEGRE</td>\n",
       "      <td>PORTO ALEGRE</td>\n",
       "      <td>INFECTOLOGIA HIV ADULTO</td>\n",
       "      <td>MEDIA</td>\n",
       "      <td>2020-07-27</td>\n",
       "      <td>PORTO ALEGRE</td>\n",
       "      <td>207 days</td>\n",
       "    </tr>\n",
       "    <tr>\n",
       "      <th>1</th>\n",
       "      <td>8fab57d2235d17307057a27516602f42</td>\n",
       "      <td>REALIZADA</td>\n",
       "      <td>2020-01-02</td>\n",
       "      <td>MASCULINO</td>\n",
       "      <td>1972-07</td>\n",
       "      <td>PORTO ALEGRE</td>\n",
       "      <td>PORTO ALEGRE</td>\n",
       "      <td>INFECTOLOGIA HIV ADULTO</td>\n",
       "      <td>MEDIA</td>\n",
       "      <td>2020-01-14</td>\n",
       "      <td>PORTO ALEGRE</td>\n",
       "      <td>12 days</td>\n",
       "    </tr>\n",
       "    <tr>\n",
       "      <th>2</th>\n",
       "      <td>7e58c81f6cf1d214f2fba5e1adbaa229</td>\n",
       "      <td>CANCELADA</td>\n",
       "      <td>2020-01-02</td>\n",
       "      <td>MASCULINO</td>\n",
       "      <td>2016-08</td>\n",
       "      <td>PORTO ALEGRE</td>\n",
       "      <td>PORTO ALEGRE</td>\n",
       "      <td>REABILITAÇÃO INTELECTUAL</td>\n",
       "      <td>MEDIA</td>\n",
       "      <td>2020-05-18</td>\n",
       "      <td>PORTO ALEGRE</td>\n",
       "      <td>137 days</td>\n",
       "    </tr>\n",
       "    <tr>\n",
       "      <th>3</th>\n",
       "      <td>dc57748b078b0da9da4f1d2a422d95e8</td>\n",
       "      <td>REALIZADA</td>\n",
       "      <td>2020-01-06</td>\n",
       "      <td>FEMININO</td>\n",
       "      <td>1990-02</td>\n",
       "      <td>PORTO ALEGRE</td>\n",
       "      <td>PORTO ALEGRE</td>\n",
       "      <td>NUTRICAO ADULTO</td>\n",
       "      <td>MEDIA</td>\n",
       "      <td>2020-03-03</td>\n",
       "      <td>PORTO ALEGRE</td>\n",
       "      <td>57 days</td>\n",
       "    </tr>\n",
       "    <tr>\n",
       "      <th>6</th>\n",
       "      <td>f22b34d93fe8fb4e9593931aa032c9c1</td>\n",
       "      <td>REALIZADA</td>\n",
       "      <td>2020-01-02</td>\n",
       "      <td>FEMININO</td>\n",
       "      <td>1962-11</td>\n",
       "      <td>PORTO ALEGRE</td>\n",
       "      <td>PORTO ALEGRE</td>\n",
       "      <td>REGULARIZACAO DE ACESSO</td>\n",
       "      <td>ALTA</td>\n",
       "      <td>2020-01-06</td>\n",
       "      <td>PORTO ALEGRE</td>\n",
       "      <td>4 days</td>\n",
       "    </tr>\n",
       "    <tr>\n",
       "      <th>13</th>\n",
       "      <td>d7476c98b4705836f311abae8411c6ca</td>\n",
       "      <td>REALIZADA</td>\n",
       "      <td>2020-01-06</td>\n",
       "      <td>FEMININO</td>\n",
       "      <td>1951-09</td>\n",
       "      <td>PORTO ALEGRE</td>\n",
       "      <td>PORTO ALEGRE</td>\n",
       "      <td>REUMATOLOGIA ADULTO</td>\n",
       "      <td>MEDIA</td>\n",
       "      <td>2020-02-14</td>\n",
       "      <td>PORTO ALEGRE</td>\n",
       "      <td>39 days</td>\n",
       "    </tr>\n",
       "    <tr>\n",
       "      <th>22</th>\n",
       "      <td>8ee1c1b6614ca9e33c7768a38f0cf584</td>\n",
       "      <td>REALIZADA</td>\n",
       "      <td>2020-01-08</td>\n",
       "      <td>FEMININO</td>\n",
       "      <td>1954-05</td>\n",
       "      <td>PORTO ALEGRE</td>\n",
       "      <td>PORTO ALEGRE</td>\n",
       "      <td>CURATIVOS ESPECIALIZADOS</td>\n",
       "      <td>MEDIA</td>\n",
       "      <td>2020-04-16</td>\n",
       "      <td>PORTO ALEGRE</td>\n",
       "      <td>99 days</td>\n",
       "    </tr>\n",
       "    <tr>\n",
       "      <th>30</th>\n",
       "      <td>cc1a37fcfbe901d816eadee107f079ad</td>\n",
       "      <td>REALIZADA</td>\n",
       "      <td>2020-01-07</td>\n",
       "      <td>FEMININO</td>\n",
       "      <td>1956-10</td>\n",
       "      <td>PORTO ALEGRE</td>\n",
       "      <td>PORTO ALEGRE</td>\n",
       "      <td>GINECOLOGIA CLIMATERIO</td>\n",
       "      <td>MEDIA</td>\n",
       "      <td>2020-01-27</td>\n",
       "      <td>PORTO ALEGRE</td>\n",
       "      <td>20 days</td>\n",
       "    </tr>\n",
       "    <tr>\n",
       "      <th>32</th>\n",
       "      <td>5317f0667c29f00c484a95ad09b50b04</td>\n",
       "      <td>REALIZADA</td>\n",
       "      <td>2020-01-06</td>\n",
       "      <td>FEMININO</td>\n",
       "      <td>1966-04</td>\n",
       "      <td>PORTO ALEGRE</td>\n",
       "      <td>PORTO ALEGRE</td>\n",
       "      <td>REUMATOLOGIA ADULTO</td>\n",
       "      <td>MEDIA</td>\n",
       "      <td>2021-03-26</td>\n",
       "      <td>PORTO ALEGRE</td>\n",
       "      <td>445 days</td>\n",
       "    </tr>\n",
       "    <tr>\n",
       "      <th>43</th>\n",
       "      <td>d7476c98b4705836f311abae8411c6ca</td>\n",
       "      <td>REALIZADA</td>\n",
       "      <td>2020-01-06</td>\n",
       "      <td>FEMININO</td>\n",
       "      <td>1951-09</td>\n",
       "      <td>PORTO ALEGRE</td>\n",
       "      <td>PORTO ALEGRE</td>\n",
       "      <td>REUMATOLOGIA ADULTO</td>\n",
       "      <td>MEDIA</td>\n",
       "      <td>2020-09-17</td>\n",
       "      <td>PORTO ALEGRE</td>\n",
       "      <td>255 days</td>\n",
       "    </tr>\n",
       "  </tbody>\n",
       "</table>\n",
       "</div>"
      ],
      "text/plain": [
       "                          id_usuario situacao_solicitacao data_solicitacao  \\\n",
       "0   8fab57d2235d17307057a27516602f42            REALIZADA       2020-01-02   \n",
       "1   8fab57d2235d17307057a27516602f42            REALIZADA       2020-01-02   \n",
       "2   7e58c81f6cf1d214f2fba5e1adbaa229            CANCELADA       2020-01-02   \n",
       "3   dc57748b078b0da9da4f1d2a422d95e8            REALIZADA       2020-01-06   \n",
       "6   f22b34d93fe8fb4e9593931aa032c9c1            REALIZADA       2020-01-02   \n",
       "13  d7476c98b4705836f311abae8411c6ca            REALIZADA       2020-01-06   \n",
       "22  8ee1c1b6614ca9e33c7768a38f0cf584            REALIZADA       2020-01-08   \n",
       "30  cc1a37fcfbe901d816eadee107f079ad            REALIZADA       2020-01-07   \n",
       "32  5317f0667c29f00c484a95ad09b50b04            REALIZADA       2020-01-06   \n",
       "43  d7476c98b4705836f311abae8411c6ca            REALIZADA       2020-01-06   \n",
       "\n",
       "         sexo nascimento nome_municipio_residencia nome_municipio_solicitante  \\\n",
       "0   MASCULINO    1972-07              PORTO ALEGRE               PORTO ALEGRE   \n",
       "1   MASCULINO    1972-07              PORTO ALEGRE               PORTO ALEGRE   \n",
       "2   MASCULINO    2016-08              PORTO ALEGRE               PORTO ALEGRE   \n",
       "3    FEMININO    1990-02              PORTO ALEGRE               PORTO ALEGRE   \n",
       "6    FEMININO    1962-11              PORTO ALEGRE               PORTO ALEGRE   \n",
       "13   FEMININO    1951-09              PORTO ALEGRE               PORTO ALEGRE   \n",
       "22   FEMININO    1954-05              PORTO ALEGRE               PORTO ALEGRE   \n",
       "30   FEMININO    1956-10              PORTO ALEGRE               PORTO ALEGRE   \n",
       "32   FEMININO    1966-04              PORTO ALEGRE               PORTO ALEGRE   \n",
       "43   FEMININO    1951-09              PORTO ALEGRE               PORTO ALEGRE   \n",
       "\n",
       "     descricao_especialidade complexidade data_consulta  \\\n",
       "0    INFECTOLOGIA HIV ADULTO        MEDIA    2020-07-27   \n",
       "1    INFECTOLOGIA HIV ADULTO        MEDIA    2020-01-14   \n",
       "2   REABILITAÇÃO INTELECTUAL        MEDIA    2020-05-18   \n",
       "3            NUTRICAO ADULTO        MEDIA    2020-03-03   \n",
       "6    REGULARIZACAO DE ACESSO         ALTA    2020-01-06   \n",
       "13       REUMATOLOGIA ADULTO        MEDIA    2020-02-14   \n",
       "22  CURATIVOS ESPECIALIZADOS        MEDIA    2020-04-16   \n",
       "30    GINECOLOGIA CLIMATERIO        MEDIA    2020-01-27   \n",
       "32       REUMATOLOGIA ADULTO        MEDIA    2021-03-26   \n",
       "43       REUMATOLOGIA ADULTO        MEDIA    2020-09-17   \n",
       "\n",
       "   nome_municipio_executante num_dias  \n",
       "0               PORTO ALEGRE 207 days  \n",
       "1               PORTO ALEGRE  12 days  \n",
       "2               PORTO ALEGRE 137 days  \n",
       "3               PORTO ALEGRE  57 days  \n",
       "6               PORTO ALEGRE   4 days  \n",
       "13              PORTO ALEGRE  39 days  \n",
       "22              PORTO ALEGRE  99 days  \n",
       "30              PORTO ALEGRE  20 days  \n",
       "32              PORTO ALEGRE 445 days  \n",
       "43              PORTO ALEGRE 255 days  "
      ]
     },
     "execution_count": 88,
     "metadata": {},
     "output_type": "execute_result"
    }
   ],
   "source": [
    "df.head(10)"
   ]
  },
  {
   "cell_type": "code",
   "execution_count": 89,
   "id": "41d11cfb",
   "metadata": {},
   "outputs": [
    {
     "data": {
      "text/plain": [
       "pandas.core.frame.DataFrame"
      ]
     },
     "execution_count": 89,
     "metadata": {},
     "output_type": "execute_result"
    }
   ],
   "source": [
    "type(df)"
   ]
  },
  {
   "cell_type": "code",
   "execution_count": 90,
   "id": "b06dd9e8",
   "metadata": {},
   "outputs": [],
   "source": [
    "df['num_dias'] = df['num_dias'].apply(lambda x: str(x).replace(\"days\", \"\"))"
   ]
  },
  {
   "cell_type": "code",
   "execution_count": 91,
   "id": "7704556e",
   "metadata": {},
   "outputs": [],
   "source": [
    "df['num_dias'] = df['num_dias'].apply(lambda x: str(x).replace(\"00:00:00\", \"\"))"
   ]
  },
  {
   "cell_type": "code",
   "execution_count": 92,
   "id": "cde60132",
   "metadata": {},
   "outputs": [],
   "source": [
    "df['num_dias'] = df['num_dias'].apply(lambda x: str(x).replace(\" \", \"\"))"
   ]
  },
  {
   "cell_type": "markdown",
   "id": "b1c69bf6",
   "metadata": {},
   "source": [
    "### Reconstruindo o indice após remover dados"
   ]
  },
  {
   "cell_type": "code",
   "execution_count": 93,
   "id": "2773854d",
   "metadata": {},
   "outputs": [],
   "source": [
    "df.index = range(df.shape[0])"
   ]
  },
  {
   "cell_type": "code",
   "execution_count": 94,
   "id": "062fe2aa",
   "metadata": {
    "scrolled": false
   },
   "outputs": [
    {
     "data": {
      "text/html": [
       "<div>\n",
       "<style scoped>\n",
       "    .dataframe tbody tr th:only-of-type {\n",
       "        vertical-align: middle;\n",
       "    }\n",
       "\n",
       "    .dataframe tbody tr th {\n",
       "        vertical-align: top;\n",
       "    }\n",
       "\n",
       "    .dataframe thead th {\n",
       "        text-align: right;\n",
       "    }\n",
       "</style>\n",
       "<table border=\"1\" class=\"dataframe\">\n",
       "  <thead>\n",
       "    <tr style=\"text-align: right;\">\n",
       "      <th></th>\n",
       "      <th>id_usuario</th>\n",
       "      <th>situacao_solicitacao</th>\n",
       "      <th>data_solicitacao</th>\n",
       "      <th>sexo</th>\n",
       "      <th>nascimento</th>\n",
       "      <th>nome_municipio_residencia</th>\n",
       "      <th>nome_municipio_solicitante</th>\n",
       "      <th>descricao_especialidade</th>\n",
       "      <th>complexidade</th>\n",
       "      <th>data_consulta</th>\n",
       "      <th>nome_municipio_executante</th>\n",
       "      <th>num_dias</th>\n",
       "    </tr>\n",
       "  </thead>\n",
       "  <tbody>\n",
       "    <tr>\n",
       "      <th>0</th>\n",
       "      <td>8fab57d2235d17307057a27516602f42</td>\n",
       "      <td>REALIZADA</td>\n",
       "      <td>2020-01-02</td>\n",
       "      <td>MASCULINO</td>\n",
       "      <td>1972-07</td>\n",
       "      <td>PORTO ALEGRE</td>\n",
       "      <td>PORTO ALEGRE</td>\n",
       "      <td>INFECTOLOGIA HIV ADULTO</td>\n",
       "      <td>MEDIA</td>\n",
       "      <td>2020-07-27</td>\n",
       "      <td>PORTO ALEGRE</td>\n",
       "      <td>207</td>\n",
       "    </tr>\n",
       "    <tr>\n",
       "      <th>1</th>\n",
       "      <td>8fab57d2235d17307057a27516602f42</td>\n",
       "      <td>REALIZADA</td>\n",
       "      <td>2020-01-02</td>\n",
       "      <td>MASCULINO</td>\n",
       "      <td>1972-07</td>\n",
       "      <td>PORTO ALEGRE</td>\n",
       "      <td>PORTO ALEGRE</td>\n",
       "      <td>INFECTOLOGIA HIV ADULTO</td>\n",
       "      <td>MEDIA</td>\n",
       "      <td>2020-01-14</td>\n",
       "      <td>PORTO ALEGRE</td>\n",
       "      <td>12</td>\n",
       "    </tr>\n",
       "    <tr>\n",
       "      <th>2</th>\n",
       "      <td>7e58c81f6cf1d214f2fba5e1adbaa229</td>\n",
       "      <td>CANCELADA</td>\n",
       "      <td>2020-01-02</td>\n",
       "      <td>MASCULINO</td>\n",
       "      <td>2016-08</td>\n",
       "      <td>PORTO ALEGRE</td>\n",
       "      <td>PORTO ALEGRE</td>\n",
       "      <td>REABILITAÇÃO INTELECTUAL</td>\n",
       "      <td>MEDIA</td>\n",
       "      <td>2020-05-18</td>\n",
       "      <td>PORTO ALEGRE</td>\n",
       "      <td>137</td>\n",
       "    </tr>\n",
       "    <tr>\n",
       "      <th>3</th>\n",
       "      <td>dc57748b078b0da9da4f1d2a422d95e8</td>\n",
       "      <td>REALIZADA</td>\n",
       "      <td>2020-01-06</td>\n",
       "      <td>FEMININO</td>\n",
       "      <td>1990-02</td>\n",
       "      <td>PORTO ALEGRE</td>\n",
       "      <td>PORTO ALEGRE</td>\n",
       "      <td>NUTRICAO ADULTO</td>\n",
       "      <td>MEDIA</td>\n",
       "      <td>2020-03-03</td>\n",
       "      <td>PORTO ALEGRE</td>\n",
       "      <td>57</td>\n",
       "    </tr>\n",
       "    <tr>\n",
       "      <th>4</th>\n",
       "      <td>f22b34d93fe8fb4e9593931aa032c9c1</td>\n",
       "      <td>REALIZADA</td>\n",
       "      <td>2020-01-02</td>\n",
       "      <td>FEMININO</td>\n",
       "      <td>1962-11</td>\n",
       "      <td>PORTO ALEGRE</td>\n",
       "      <td>PORTO ALEGRE</td>\n",
       "      <td>REGULARIZACAO DE ACESSO</td>\n",
       "      <td>ALTA</td>\n",
       "      <td>2020-01-06</td>\n",
       "      <td>PORTO ALEGRE</td>\n",
       "      <td>4</td>\n",
       "    </tr>\n",
       "    <tr>\n",
       "      <th>...</th>\n",
       "      <td>...</td>\n",
       "      <td>...</td>\n",
       "      <td>...</td>\n",
       "      <td>...</td>\n",
       "      <td>...</td>\n",
       "      <td>...</td>\n",
       "      <td>...</td>\n",
       "      <td>...</td>\n",
       "      <td>...</td>\n",
       "      <td>...</td>\n",
       "      <td>...</td>\n",
       "      <td>...</td>\n",
       "    </tr>\n",
       "    <tr>\n",
       "      <th>200424</th>\n",
       "      <td>1d4ea96ddf2083577a1332de2ea4fe19</td>\n",
       "      <td>REALIZADA</td>\n",
       "      <td>2020-02-20</td>\n",
       "      <td>FEMININO</td>\n",
       "      <td>1987-08</td>\n",
       "      <td>PORTO ALEGRE</td>\n",
       "      <td>PORTO ALEGRE</td>\n",
       "      <td>GINECOLOGIA GERAL</td>\n",
       "      <td>MEDIA</td>\n",
       "      <td>2020-08-31</td>\n",
       "      <td>PORTO ALEGRE</td>\n",
       "      <td>193</td>\n",
       "    </tr>\n",
       "    <tr>\n",
       "      <th>200425</th>\n",
       "      <td>45853701b0f65ca1676f55f9e5adcbfc</td>\n",
       "      <td>REALIZADA</td>\n",
       "      <td>2020-12-15</td>\n",
       "      <td>MASCULINO</td>\n",
       "      <td>1945-11</td>\n",
       "      <td>VIAMAO</td>\n",
       "      <td>VIAMAO</td>\n",
       "      <td>CARDIOLOGIA ADULTO</td>\n",
       "      <td>MEDIA</td>\n",
       "      <td>2021-01-28</td>\n",
       "      <td>PORTO ALEGRE</td>\n",
       "      <td>44</td>\n",
       "    </tr>\n",
       "    <tr>\n",
       "      <th>200426</th>\n",
       "      <td>4b5182dbd599de8a1f33c0f10e3f3836</td>\n",
       "      <td>REALIZADA</td>\n",
       "      <td>2020-02-07</td>\n",
       "      <td>FEMININO</td>\n",
       "      <td>1985-12</td>\n",
       "      <td>PORTO ALEGRE</td>\n",
       "      <td>PORTO ALEGRE</td>\n",
       "      <td>OTORRINOLARINGOLOGIA ADULTO</td>\n",
       "      <td>MEDIA</td>\n",
       "      <td>2020-02-20</td>\n",
       "      <td>PORTO ALEGRE</td>\n",
       "      <td>13</td>\n",
       "    </tr>\n",
       "    <tr>\n",
       "      <th>200427</th>\n",
       "      <td>9f248583948140cc251796b678dd360d</td>\n",
       "      <td>REALIZADA</td>\n",
       "      <td>2020-10-06</td>\n",
       "      <td>MASCULINO</td>\n",
       "      <td>2020-09</td>\n",
       "      <td>PORTO ALEGRE</td>\n",
       "      <td>PORTO ALEGRE</td>\n",
       "      <td>PEDIATRIA  GERAL</td>\n",
       "      <td>MEDIA</td>\n",
       "      <td>2021-05-12</td>\n",
       "      <td>PORTO ALEGRE</td>\n",
       "      <td>218</td>\n",
       "    </tr>\n",
       "    <tr>\n",
       "      <th>200428</th>\n",
       "      <td>9a3ab713714f42c89776f969a9b3180d</td>\n",
       "      <td>REALIZADA</td>\n",
       "      <td>2020-01-20</td>\n",
       "      <td>FEMININO</td>\n",
       "      <td>1980-02</td>\n",
       "      <td>PORTO ALEGRE</td>\n",
       "      <td>PORTO ALEGRE</td>\n",
       "      <td>INFECTOLOGIA HIV ADULTO</td>\n",
       "      <td>MEDIA</td>\n",
       "      <td>2020-03-09</td>\n",
       "      <td>PORTO ALEGRE</td>\n",
       "      <td>49</td>\n",
       "    </tr>\n",
       "  </tbody>\n",
       "</table>\n",
       "<p>200429 rows × 12 columns</p>\n",
       "</div>"
      ],
      "text/plain": [
       "                              id_usuario situacao_solicitacao  \\\n",
       "0       8fab57d2235d17307057a27516602f42            REALIZADA   \n",
       "1       8fab57d2235d17307057a27516602f42            REALIZADA   \n",
       "2       7e58c81f6cf1d214f2fba5e1adbaa229            CANCELADA   \n",
       "3       dc57748b078b0da9da4f1d2a422d95e8            REALIZADA   \n",
       "4       f22b34d93fe8fb4e9593931aa032c9c1            REALIZADA   \n",
       "...                                  ...                  ...   \n",
       "200424  1d4ea96ddf2083577a1332de2ea4fe19            REALIZADA   \n",
       "200425  45853701b0f65ca1676f55f9e5adcbfc            REALIZADA   \n",
       "200426  4b5182dbd599de8a1f33c0f10e3f3836            REALIZADA   \n",
       "200427  9f248583948140cc251796b678dd360d            REALIZADA   \n",
       "200428  9a3ab713714f42c89776f969a9b3180d            REALIZADA   \n",
       "\n",
       "       data_solicitacao       sexo nascimento nome_municipio_residencia  \\\n",
       "0            2020-01-02  MASCULINO    1972-07              PORTO ALEGRE   \n",
       "1            2020-01-02  MASCULINO    1972-07              PORTO ALEGRE   \n",
       "2            2020-01-02  MASCULINO    2016-08              PORTO ALEGRE   \n",
       "3            2020-01-06   FEMININO    1990-02              PORTO ALEGRE   \n",
       "4            2020-01-02   FEMININO    1962-11              PORTO ALEGRE   \n",
       "...                 ...        ...        ...                       ...   \n",
       "200424       2020-02-20   FEMININO    1987-08              PORTO ALEGRE   \n",
       "200425       2020-12-15  MASCULINO    1945-11                    VIAMAO   \n",
       "200426       2020-02-07   FEMININO    1985-12              PORTO ALEGRE   \n",
       "200427       2020-10-06  MASCULINO    2020-09              PORTO ALEGRE   \n",
       "200428       2020-01-20   FEMININO    1980-02              PORTO ALEGRE   \n",
       "\n",
       "       nome_municipio_solicitante      descricao_especialidade complexidade  \\\n",
       "0                    PORTO ALEGRE      INFECTOLOGIA HIV ADULTO        MEDIA   \n",
       "1                    PORTO ALEGRE      INFECTOLOGIA HIV ADULTO        MEDIA   \n",
       "2                    PORTO ALEGRE     REABILITAÇÃO INTELECTUAL        MEDIA   \n",
       "3                    PORTO ALEGRE              NUTRICAO ADULTO        MEDIA   \n",
       "4                    PORTO ALEGRE      REGULARIZACAO DE ACESSO         ALTA   \n",
       "...                           ...                          ...          ...   \n",
       "200424               PORTO ALEGRE            GINECOLOGIA GERAL        MEDIA   \n",
       "200425                     VIAMAO           CARDIOLOGIA ADULTO        MEDIA   \n",
       "200426               PORTO ALEGRE  OTORRINOLARINGOLOGIA ADULTO        MEDIA   \n",
       "200427               PORTO ALEGRE             PEDIATRIA  GERAL        MEDIA   \n",
       "200428               PORTO ALEGRE      INFECTOLOGIA HIV ADULTO        MEDIA   \n",
       "\n",
       "       data_consulta nome_municipio_executante num_dias  \n",
       "0         2020-07-27              PORTO ALEGRE      207  \n",
       "1         2020-01-14              PORTO ALEGRE       12  \n",
       "2         2020-05-18              PORTO ALEGRE      137  \n",
       "3         2020-03-03              PORTO ALEGRE       57  \n",
       "4         2020-01-06              PORTO ALEGRE        4  \n",
       "...              ...                       ...      ...  \n",
       "200424    2020-08-31              PORTO ALEGRE      193  \n",
       "200425    2021-01-28              PORTO ALEGRE       44  \n",
       "200426    2020-02-20              PORTO ALEGRE       13  \n",
       "200427    2021-05-12              PORTO ALEGRE      218  \n",
       "200428    2020-03-09              PORTO ALEGRE       49  \n",
       "\n",
       "[200429 rows x 12 columns]"
      ]
     },
     "execution_count": 94,
     "metadata": {},
     "output_type": "execute_result"
    }
   ],
   "source": [
    "df"
   ]
  },
  {
   "cell_type": "code",
   "execution_count": 95,
   "id": "0f4a4018",
   "metadata": {},
   "outputs": [],
   "source": [
    "df.dropna(subset=['num_dias'], inplace = True)"
   ]
  },
  {
   "cell_type": "code",
   "execution_count": 96,
   "id": "dda40239",
   "metadata": {},
   "outputs": [],
   "source": [
    "ind=df.loc[(df['num_dias'] =='NaT')] \n",
    "\n",
    "df = df.drop(ind.index)"
   ]
  },
  {
   "cell_type": "code",
   "execution_count": 97,
   "id": "267b9522",
   "metadata": {},
   "outputs": [],
   "source": [
    "ind=df.loc[(df['num_dias'] =='nan')] \n",
    "\n",
    "df = df.drop(ind.index)"
   ]
  },
  {
   "cell_type": "code",
   "execution_count": 98,
   "id": "3dfb551b",
   "metadata": {},
   "outputs": [],
   "source": [
    "df['num_dias'] = df['num_dias'].astype('int')"
   ]
  },
  {
   "cell_type": "markdown",
   "id": "2a317620",
   "metadata": {},
   "source": [
    "##### Ajustando o campo numero de dias para inteiro"
   ]
  },
  {
   "cell_type": "code",
   "execution_count": 99,
   "id": "c6d97a02",
   "metadata": {},
   "outputs": [
    {
     "name": "stdout",
     "output_type": "stream",
     "text": [
      "<class 'pandas.core.frame.DataFrame'>\n",
      "Int64Index: 200429 entries, 0 to 200428\n",
      "Data columns (total 12 columns):\n",
      " #   Column                      Non-Null Count   Dtype         \n",
      "---  ------                      --------------   -----         \n",
      " 0   id_usuario                  200429 non-null  object        \n",
      " 1   situacao_solicitacao        200429 non-null  category      \n",
      " 2   data_solicitacao            200429 non-null  datetime64[ns]\n",
      " 3   sexo                        200423 non-null  category      \n",
      " 4   nascimento                  200429 non-null  object        \n",
      " 5   nome_municipio_residencia   200429 non-null  object        \n",
      " 6   nome_municipio_solicitante  200429 non-null  object        \n",
      " 7   descricao_especialidade     200429 non-null  object        \n",
      " 8   complexidade                200429 non-null  category      \n",
      " 9   data_consulta               200429 non-null  datetime64[ns]\n",
      " 10  nome_municipio_executante   200429 non-null  object        \n",
      " 11  num_dias                    200429 non-null  int32         \n",
      "dtypes: category(3), datetime64[ns](2), int32(1), object(6)\n",
      "memory usage: 19.1+ MB\n"
     ]
    }
   ],
   "source": [
    "df.info()"
   ]
  },
  {
   "cell_type": "markdown",
   "id": "22b91ee2",
   "metadata": {},
   "source": [
    "#### Salvando planilha com os dados tratados"
   ]
  },
  {
   "cell_type": "code",
   "execution_count": 100,
   "id": "f4459619",
   "metadata": {},
   "outputs": [],
   "source": [
    "df.to_csv('dados_tratados_ok.csv', sep =';')"
   ]
  },
  {
   "cell_type": "code",
   "execution_count": 101,
   "id": "1e835b0c",
   "metadata": {},
   "outputs": [],
   "source": [
    "df = pd.read_csv('dados_tratados_ok.csv', sep = ';')"
   ]
  },
  {
   "cell_type": "markdown",
   "id": "745676bc",
   "metadata": {},
   "source": [
    "### Estatísticas"
   ]
  },
  {
   "cell_type": "markdown",
   "id": "5db88bdf",
   "metadata": {},
   "source": [
    "#### Média de numero de dias"
   ]
  },
  {
   "cell_type": "code",
   "execution_count": 102,
   "id": "b95b9fb0",
   "metadata": {},
   "outputs": [
    {
     "data": {
      "text/plain": [
       "135.3465716039096"
      ]
     },
     "execution_count": 102,
     "metadata": {},
     "output_type": "execute_result"
    }
   ],
   "source": [
    "df['num_dias'].mean()"
   ]
  },
  {
   "cell_type": "code",
   "execution_count": 103,
   "id": "9e1fb52d",
   "metadata": {},
   "outputs": [],
   "source": [
    "grupo_espec= df.groupby('descricao_especialidade')"
   ]
  },
  {
   "cell_type": "markdown",
   "id": "f3c8c40c",
   "metadata": {},
   "source": [
    "#### Média de dias de espera por especialidade"
   ]
  },
  {
   "cell_type": "code",
   "execution_count": 104,
   "id": "79e219df",
   "metadata": {},
   "outputs": [
    {
     "data": {
      "text/plain": [
       "descricao_especialidade\n",
       "ACUPUNTURA GERAL                321.0\n",
       "ADOLESCENCIA/HEBIATRIA          179.0\n",
       "ANDROLOGIA ADULTO               195.0\n",
       "APOIO ONCOLOGIA ICI              12.0\n",
       "CARDIOLOGIA ADULTO               79.0\n",
       "                                ...  \n",
       "UROLOGIA ADULTO                 148.0\n",
       "UROLOGIA BIOPSIA DE PROSTATA     60.0\n",
       "UROLOGIA LITOTRIPSIA             18.0\n",
       "UROLOGIA PEDIATRICA             166.0\n",
       "UROLOGIA VASECTOMIA             113.0\n",
       "Name: num_dias, Length: 212, dtype: float64"
      ]
     },
     "execution_count": 104,
     "metadata": {},
     "output_type": "execute_result"
    }
   ],
   "source": [
    "grupo_espec['num_dias'].mean().round()"
   ]
  },
  {
   "cell_type": "markdown",
   "id": "4b2f7f81",
   "metadata": {},
   "source": [
    "#### Verificando o numero máximo de dias de espera por uma consulta"
   ]
  },
  {
   "cell_type": "code",
   "execution_count": 105,
   "id": "13121a59",
   "metadata": {},
   "outputs": [
    {
     "data": {
      "text/plain": [
       "count    200429.00\n",
       "mean        135.35\n",
       "std         136.62\n",
       "min           0.00\n",
       "25%          25.00\n",
       "50%          81.00\n",
       "75%         215.00\n",
       "max         746.00\n",
       "Name: num_dias, dtype: float64"
      ]
     },
     "execution_count": 105,
     "metadata": {},
     "output_type": "execute_result"
    }
   ],
   "source": [
    "df['num_dias'].describe().round(2)"
   ]
  },
  {
   "cell_type": "markdown",
   "id": "0d8d02cc",
   "metadata": {},
   "source": [
    "#### Numero máximo e mínimo de dias de espera por especialidade"
   ]
  },
  {
   "cell_type": "code",
   "execution_count": 106,
   "id": "d30f8577",
   "metadata": {},
   "outputs": [
    {
     "data": {
      "text/html": [
       "<div>\n",
       "<style scoped>\n",
       "    .dataframe tbody tr th:only-of-type {\n",
       "        vertical-align: middle;\n",
       "    }\n",
       "\n",
       "    .dataframe tbody tr th {\n",
       "        vertical-align: top;\n",
       "    }\n",
       "\n",
       "    .dataframe thead th {\n",
       "        text-align: right;\n",
       "    }\n",
       "</style>\n",
       "<table border=\"1\" class=\"dataframe\">\n",
       "  <thead>\n",
       "    <tr style=\"text-align: right;\">\n",
       "      <th></th>\n",
       "      <th>Mínimo</th>\n",
       "      <th>Máximo</th>\n",
       "      <th>Quantidade</th>\n",
       "    </tr>\n",
       "    <tr>\n",
       "      <th>descricao_especialidade</th>\n",
       "      <th></th>\n",
       "      <th></th>\n",
       "      <th></th>\n",
       "    </tr>\n",
       "  </thead>\n",
       "  <tbody>\n",
       "    <tr>\n",
       "      <th>ACUPUNTURA GERAL</th>\n",
       "      <td>14</td>\n",
       "      <td>596</td>\n",
       "      <td>1169</td>\n",
       "    </tr>\n",
       "    <tr>\n",
       "      <th>ADOLESCENCIA/HEBIATRIA</th>\n",
       "      <td>9</td>\n",
       "      <td>392</td>\n",
       "      <td>127</td>\n",
       "    </tr>\n",
       "    <tr>\n",
       "      <th>ANDROLOGIA ADULTO</th>\n",
       "      <td>15</td>\n",
       "      <td>385</td>\n",
       "      <td>73</td>\n",
       "    </tr>\n",
       "    <tr>\n",
       "      <th>APOIO ONCOLOGIA ICI</th>\n",
       "      <td>6</td>\n",
       "      <td>20</td>\n",
       "      <td>71</td>\n",
       "    </tr>\n",
       "    <tr>\n",
       "      <th>CARDIOLOGIA ADULTO</th>\n",
       "      <td>0</td>\n",
       "      <td>597</td>\n",
       "      <td>19712</td>\n",
       "    </tr>\n",
       "    <tr>\n",
       "      <th>...</th>\n",
       "      <td>...</td>\n",
       "      <td>...</td>\n",
       "      <td>...</td>\n",
       "    </tr>\n",
       "    <tr>\n",
       "      <th>UROLOGIA ADULTO</th>\n",
       "      <td>3</td>\n",
       "      <td>746</td>\n",
       "      <td>3037</td>\n",
       "    </tr>\n",
       "    <tr>\n",
       "      <th>UROLOGIA BIOPSIA DE PROSTATA</th>\n",
       "      <td>2</td>\n",
       "      <td>301</td>\n",
       "      <td>329</td>\n",
       "    </tr>\n",
       "    <tr>\n",
       "      <th>UROLOGIA LITOTRIPSIA</th>\n",
       "      <td>2</td>\n",
       "      <td>28</td>\n",
       "      <td>20</td>\n",
       "    </tr>\n",
       "    <tr>\n",
       "      <th>UROLOGIA PEDIATRICA</th>\n",
       "      <td>4</td>\n",
       "      <td>504</td>\n",
       "      <td>474</td>\n",
       "    </tr>\n",
       "    <tr>\n",
       "      <th>UROLOGIA VASECTOMIA</th>\n",
       "      <td>1</td>\n",
       "      <td>483</td>\n",
       "      <td>287</td>\n",
       "    </tr>\n",
       "  </tbody>\n",
       "</table>\n",
       "<p>212 rows × 3 columns</p>\n",
       "</div>"
      ],
      "text/plain": [
       "                              Mínimo  Máximo  Quantidade\n",
       "descricao_especialidade                                 \n",
       "ACUPUNTURA GERAL                  14     596        1169\n",
       "ADOLESCENCIA/HEBIATRIA             9     392         127\n",
       "ANDROLOGIA ADULTO                 15     385          73\n",
       "APOIO ONCOLOGIA ICI                6      20          71\n",
       "CARDIOLOGIA ADULTO                 0     597       19712\n",
       "...                              ...     ...         ...\n",
       "UROLOGIA ADULTO                    3     746        3037\n",
       "UROLOGIA BIOPSIA DE PROSTATA       2     301         329\n",
       "UROLOGIA LITOTRIPSIA               2      28          20\n",
       "UROLOGIA PEDIATRICA                4     504         474\n",
       "UROLOGIA VASECTOMIA                1     483         287\n",
       "\n",
       "[212 rows x 3 columns]"
      ]
     },
     "execution_count": 106,
     "metadata": {},
     "output_type": "execute_result"
    }
   ],
   "source": [
    "grupo_espec['num_dias'].aggregate(['min', 'max', 'count']).rename(columns = {'min': 'Mínimo', 'max': 'Máximo', 'count' : 'Quantidade'})"
   ]
  },
  {
   "cell_type": "markdown",
   "id": "adbb4cd4",
   "metadata": {},
   "source": [
    "##### Numero maximo e mínimo de dias de espera por complexidade"
   ]
  },
  {
   "cell_type": "code",
   "execution_count": 107,
   "id": "f4f7ead8",
   "metadata": {},
   "outputs": [
    {
     "data": {
      "text/plain": [
       "complexidade\n",
       "ALTA     109.0\n",
       "MEDIA    140.0\n",
       "Name: num_dias, dtype: float64"
      ]
     },
     "execution_count": 107,
     "metadata": {},
     "output_type": "execute_result"
    }
   ],
   "source": [
    "grupo_complex= df.groupby('complexidade')\n",
    "grupo_complex['num_dias'].mean().round()"
   ]
  },
  {
   "cell_type": "code",
   "execution_count": 108,
   "id": "4f158b38",
   "metadata": {},
   "outputs": [
    {
     "data": {
      "text/plain": [
       "situacao_solicitacao\n",
       "CANCELADA     11918\n",
       "REALIZADA    188511\n",
       "Name: num_dias, dtype: int64"
      ]
     },
     "execution_count": 108,
     "metadata": {},
     "output_type": "execute_result"
    }
   ],
   "source": [
    "grupo_sit= df.groupby('situacao_solicitacao')\n",
    "grupo_sit['num_dias'].count()"
   ]
  },
  {
   "cell_type": "code",
   "execution_count": 109,
   "id": "ae1b04f1",
   "metadata": {},
   "outputs": [
    {
     "name": "stdout",
     "output_type": "stream",
     "text": [
      "<class 'pandas.core.frame.DataFrame'>\n",
      "RangeIndex: 200429 entries, 0 to 200428\n",
      "Data columns (total 13 columns):\n",
      " #   Column                      Non-Null Count   Dtype \n",
      "---  ------                      --------------   ----- \n",
      " 0   Unnamed: 0                  200429 non-null  int64 \n",
      " 1   id_usuario                  200429 non-null  object\n",
      " 2   situacao_solicitacao        200429 non-null  object\n",
      " 3   data_solicitacao            200429 non-null  object\n",
      " 4   sexo                        200423 non-null  object\n",
      " 5   nascimento                  200429 non-null  object\n",
      " 6   nome_municipio_residencia   200429 non-null  object\n",
      " 7   nome_municipio_solicitante  200429 non-null  object\n",
      " 8   descricao_especialidade     200429 non-null  object\n",
      " 9   complexidade                200429 non-null  object\n",
      " 10  data_consulta               200429 non-null  object\n",
      " 11  nome_municipio_executante   200429 non-null  object\n",
      " 12  num_dias                    200429 non-null  int64 \n",
      "dtypes: int64(2), object(11)\n",
      "memory usage: 19.9+ MB\n"
     ]
    }
   ],
   "source": [
    "df.info()"
   ]
  },
  {
   "cell_type": "markdown",
   "id": "6aaa2e4a",
   "metadata": {},
   "source": [
    "## 2. Pré-processamento dos dados "
   ]
  },
  {
   "cell_type": "markdown",
   "id": "2cdab172",
   "metadata": {},
   "source": [
    "Separação de dados utilizando o sklearn, passando como parametro 20% para teste, a separação será de forma aleatória e como semente o numero 42 para manter a mesma separação em outras execuções.\n",
    "\n",
    "Em seguida a coluna alvo \"situacao_solicitacao\" é separada dos dados de treino do dataset.\n"
   ]
  },
  {
   "cell_type": "code",
   "execution_count": 110,
   "id": "c4e9330e",
   "metadata": {},
   "outputs": [],
   "source": [
    "from sklearn.model_selection import train_test_split\n",
    "\n",
    "# separando os conjuntos de dados de treino e teste\n",
    "df_treino, df_teste = train_test_split(df, test_size=0.2, random_state=42)\n",
    "\n",
    "# separando a coluna alvo do conjunto de treino\n",
    "df_treino_labels = df_treino['situacao_solicitacao'].copy()\n",
    "df_treino        = df_treino.drop(columns='situacao_solicitacao')\n",
    "\n",
    "# separando a coluna alvo do conjunto de teste\n",
    "df_teste_labels = df_teste['situacao_solicitacao'].copy()\n",
    "df_teste        = df_teste.drop(columns='situacao_solicitacao')"
   ]
  },
  {
   "cell_type": "markdown",
   "id": "ee376d42",
   "metadata": {},
   "source": [
    "Importanto as classes do sklearn para utilização no modelo.\n",
    "\n",
    "\n",
    "Apontamento dos atributos relevantes para o modelo, tanto os numericos como os categoricos, e aplicação do pre processamento nas bases de treino e de teste.\n",
    "\n",
    "Para os dados Numéricos:\n",
    "\n",
    "A classe SimpleImputer será utilizada para preencher com o valor mais frequente os campos nulos junto com o método fit_transform.\n",
    "A classe StandardScaler deixará as colunas aproximadamente na mesma escala.\n",
    "\n",
    "\n",
    "Para os dados categóricos:\n",
    "\n",
    "Foi utilizado o OneHotEncoder para criar novos dados numéricos, preservando as características dos dados e viabilizando o modelo.\n",
    "\n",
    "Em seguida é realizado o treinamento \"fit\" e transformações da base de treino e apenas transformação da base de teste."
   ]
  },
  {
   "cell_type": "code",
   "execution_count": 111,
   "id": "8967972c",
   "metadata": {},
   "outputs": [],
   "source": [
    "from sklearn.preprocessing import StandardScaler\n",
    "from sklearn.preprocessing import OneHotEncoder\n",
    "\n",
    "from sklearn.pipeline import Pipeline\n",
    "from sklearn.compose import ColumnTransformer\n",
    "\n",
    "# atributos escolhidos:\n",
    "nomes_atributos_numericos   = ['num_dias']\n",
    "nomes_atributos_categoricos = ['descricao_especialidade', 'sexo','complexidade']\n",
    "\n",
    "\n",
    "base_completo = ColumnTransformer([\n",
    "    ('numericos', StandardScaler(), nomes_atributos_numericos),\n",
    "    ('categoricos', OneHotEncoder(handle_unknown = 'ignore'), nomes_atributos_categoricos),\n",
    "    ], \n",
    "    sparse_threshold=0)\n",
    "\n",
    "# base de treino com fit_transform (aprende com os dados e aplica transformações)\n",
    "X_treino = base_completo.fit_transform(df_treino)\n",
    "\n",
    "# base de teste, somente com o tranform (transforma aplica as transformações nos dados de teste)\n",
    "X_teste = base_completo.transform(df_teste)"
   ]
  },
  {
   "cell_type": "code",
   "execution_count": 112,
   "id": "109fcba0",
   "metadata": {},
   "outputs": [],
   "source": [
    "# Coluna alvo para os conjuntos de treino e teste\n",
    "y_treino = df_treino_labels.values\n",
    "y_teste = df_teste_labels.values"
   ]
  },
  {
   "cell_type": "code",
   "execution_count": 113,
   "id": "511e74ab",
   "metadata": {},
   "outputs": [
    {
     "data": {
      "text/plain": [
       "array(['REALIZADA', 'REALIZADA', 'REALIZADA', ..., 'CANCELADA',\n",
       "       'REALIZADA', 'REALIZADA'], dtype=object)"
      ]
     },
     "execution_count": 113,
     "metadata": {},
     "output_type": "execute_result"
    }
   ],
   "source": [
    "y_treino"
   ]
  },
  {
   "cell_type": "code",
   "execution_count": 114,
   "id": "f68e39ae",
   "metadata": {},
   "outputs": [
    {
     "data": {
      "text/plain": [
       "(160343, 218)"
      ]
     },
     "execution_count": 114,
     "metadata": {},
     "output_type": "execute_result"
    }
   ],
   "source": [
    "X_treino.shape"
   ]
  },
  {
   "cell_type": "code",
   "execution_count": 115,
   "id": "40b7cc98",
   "metadata": {},
   "outputs": [
    {
     "data": {
      "text/plain": [
       "(160343,)"
      ]
     },
     "execution_count": 115,
     "metadata": {},
     "output_type": "execute_result"
    }
   ],
   "source": [
    "y_treino.shape"
   ]
  },
  {
   "cell_type": "code",
   "execution_count": 116,
   "id": "91e58dce",
   "metadata": {},
   "outputs": [
    {
     "data": {
      "text/plain": [
       "(40086, 218)"
      ]
     },
     "execution_count": 116,
     "metadata": {},
     "output_type": "execute_result"
    }
   ],
   "source": [
    "X_teste.shape"
   ]
  },
  {
   "cell_type": "code",
   "execution_count": 117,
   "id": "a4e08804",
   "metadata": {
    "scrolled": true
   },
   "outputs": [
    {
     "data": {
      "text/plain": [
       "(40086,)"
      ]
     },
     "execution_count": 117,
     "metadata": {},
     "output_type": "execute_result"
    }
   ],
   "source": [
    "y_teste.shape"
   ]
  },
  {
   "cell_type": "markdown",
   "id": "d2c5a812",
   "metadata": {},
   "source": [
    "## Treinamento modelos preditivos"
   ]
  },
  {
   "cell_type": "markdown",
   "id": "2a4c02ff",
   "metadata": {},
   "source": [
    "### Modelo: Regressão Logística com SKLearn\n",
    "\n",
    "Fou utilizado o método de Regressão Logistica, visto que a coluna alvo é de natureza categorica.\n",
    "Instancia a classe e realiza o Fit passando as amostrar de treino."
   ]
  },
  {
   "cell_type": "code",
   "execution_count": 118,
   "id": "8f0d6747",
   "metadata": {},
   "outputs": [
    {
     "data": {
      "text/plain": [
       "array(['CANCELADA', 'REALIZADA'], dtype=object)"
      ]
     },
     "execution_count": 118,
     "metadata": {},
     "output_type": "execute_result"
    }
   ],
   "source": [
    "from sklearn.linear_model import LogisticRegression\n",
    "\n",
    "log_reg = LogisticRegression(max_iter=800)\n",
    "\n",
    "log_reg.fit(X_treino, y_treino)\n",
    "log_reg.classes_"
   ]
  },
  {
   "cell_type": "markdown",
   "id": "477e9770",
   "metadata": {},
   "source": [
    "#### Probabilidade estimada pela regressão logística\n",
    "\n",
    "retorna a probrabilidade de pertencer a cada classe. A primeira colnua a probabilidade de pertencer a primeira classe e a segunda de pertencer a segunda classe."
   ]
  },
  {
   "cell_type": "code",
   "execution_count": 119,
   "id": "c4d38d8c",
   "metadata": {},
   "outputs": [
    {
     "data": {
      "text/plain": [
       "array([[0.04, 0.96],\n",
       "       [0.03, 0.97],\n",
       "       [0.05, 0.95],\n",
       "       ...,\n",
       "       [0.01, 0.99],\n",
       "       [0.02, 0.98],\n",
       "       [0.18, 0.82]])"
      ]
     },
     "execution_count": 119,
     "metadata": {},
     "output_type": "execute_result"
    }
   ],
   "source": [
    "y_probabilidade_reglog = log_reg.predict_proba(X_teste)\n",
    "np.round(y_probabilidade_reglog,decimals=2)"
   ]
  },
  {
   "cell_type": "markdown",
   "id": "91945375",
   "metadata": {},
   "source": [
    "#### Previsões pela regressão logística\n",
    "\n",
    "O Predict irá devolver um vetor de previsões e para comparar com o de teste"
   ]
  },
  {
   "cell_type": "code",
   "execution_count": 120,
   "id": "0a4c7a2f",
   "metadata": {},
   "outputs": [
    {
     "data": {
      "text/plain": [
       "array(['REALIZADA', 'REALIZADA', 'REALIZADA', ..., 'REALIZADA',\n",
       "       'REALIZADA', 'REALIZADA'], dtype=object)"
      ]
     },
     "execution_count": 120,
     "metadata": {},
     "output_type": "execute_result"
    }
   ],
   "source": [
    "y_previsto_reglog = log_reg.predict(X_teste)\n",
    "y_previsto_reglog"
   ]
  },
  {
   "cell_type": "code",
   "execution_count": 121,
   "id": "cd8e043c",
   "metadata": {},
   "outputs": [
    {
     "data": {
      "text/plain": [
       "array(['REALIZADA', 'REALIZADA', 'REALIZADA', ..., 'REALIZADA',\n",
       "       'REALIZADA', 'REALIZADA'], dtype=object)"
      ]
     },
     "execution_count": 121,
     "metadata": {},
     "output_type": "execute_result"
    }
   ],
   "source": [
    "y_teste"
   ]
  },
  {
   "cell_type": "markdown",
   "id": "31e3b642",
   "metadata": {},
   "source": [
    "#### Vetor de erros e acertos, ou seja, 2286 erros e 37800 de acertos resultando em 0.94 de acuracia"
   ]
  },
  {
   "cell_type": "code",
   "execution_count": 122,
   "id": "83c3bd16",
   "metadata": {},
   "outputs": [
    {
     "data": {
      "text/plain": [
       "array([ True,  True,  True, ...,  True,  True,  True])"
      ]
     },
     "execution_count": 122,
     "metadata": {},
     "output_type": "execute_result"
    }
   ],
   "source": [
    "acertos_reglog = y_previsto_reglog == y_teste\n",
    "acertos_reglog"
   ]
  },
  {
   "cell_type": "code",
   "execution_count": 123,
   "id": "7ca9992b",
   "metadata": {},
   "outputs": [
    {
     "name": "stdout",
     "output_type": "stream",
     "text": [
      "[[    0     1]\n",
      " [ 2286 37800]]\n"
     ]
    }
   ],
   "source": [
    "valores_reglog, quantidades_reglog = np.unique(acertos_reglog, return_counts=True)\n",
    "print(np.asarray((valores_reglog, quantidades_reglog)))"
   ]
  },
  {
   "cell_type": "code",
   "execution_count": 124,
   "id": "01cef347",
   "metadata": {},
   "outputs": [
    {
     "name": "stdout",
     "output_type": "stream",
     "text": [
      "Acurácia:  0.94\n"
     ]
    }
   ],
   "source": [
    "print(\"Acurácia: \", (quantidades_reglog[1]/y_teste.shape[0]).round(2))"
   ]
  },
  {
   "cell_type": "markdown",
   "id": "6c954326",
   "metadata": {},
   "source": [
    "### Modelo: Árvore de Decisão  com SKLearn\n",
    "\n",
    "A partir do mesmo pré processamento realizado nos passos anteriores foi realizada a criação da árvore de decisão com a classe DecisionTreeClassifier pois a coluna algo é categorica, e passandoo valor de 4 níveis como parametro de profundidade da árvore"
   ]
  },
  {
   "cell_type": "code",
   "execution_count": 125,
   "id": "04fe4179",
   "metadata": {},
   "outputs": [
    {
     "data": {
      "text/plain": [
       "array(['CANCELADA', 'REALIZADA'], dtype=object)"
      ]
     },
     "execution_count": 125,
     "metadata": {},
     "output_type": "execute_result"
    }
   ],
   "source": [
    "from sklearn.tree import DecisionTreeClassifier\n",
    "\n",
    "arvore = DecisionTreeClassifier(max_depth=4)\n",
    "arvore.fit(X_treino, y_treino)\n",
    "arvore.classes_"
   ]
  },
  {
   "cell_type": "markdown",
   "id": "82cb3bc1",
   "metadata": {},
   "source": [
    "#### Probabilidade estimada pela árvore de decisão\n",
    "\n",
    "A probabilidade de cada classe"
   ]
  },
  {
   "cell_type": "code",
   "execution_count": 126,
   "id": "4d3cf785",
   "metadata": {},
   "outputs": [
    {
     "data": {
      "text/plain": [
       "array([[0.04, 0.96],\n",
       "       [0.03, 0.97],\n",
       "       [0.05, 0.95],\n",
       "       ...,\n",
       "       [0.01, 0.99],\n",
       "       [0.02, 0.98],\n",
       "       [0.18, 0.82]])"
      ]
     },
     "execution_count": 126,
     "metadata": {},
     "output_type": "execute_result"
    }
   ],
   "source": [
    "y_probabilidade_reglog = log_reg.predict_proba(X_teste)\n",
    "np.round(y_probabilidade_reglog,decimals=2)"
   ]
  },
  {
   "cell_type": "markdown",
   "id": "5f13c47d",
   "metadata": {},
   "source": [
    "#### Previsões pela árvore de decisão"
   ]
  },
  {
   "cell_type": "code",
   "execution_count": 127,
   "id": "93570715",
   "metadata": {},
   "outputs": [
    {
     "data": {
      "text/plain": [
       "array(['REALIZADA', 'REALIZADA', 'REALIZADA', ..., 'REALIZADA',\n",
       "       'REALIZADA', 'REALIZADA'], dtype=object)"
      ]
     },
     "execution_count": 127,
     "metadata": {},
     "output_type": "execute_result"
    }
   ],
   "source": [
    "y_previsto_arvore = arvore.predict(X_teste)\n",
    "y_previsto_arvore"
   ]
  },
  {
   "cell_type": "code",
   "execution_count": 128,
   "id": "d7fe7428",
   "metadata": {},
   "outputs": [
    {
     "data": {
      "text/plain": [
       "array([ True,  True,  True, ...,  True,  True,  True])"
      ]
     },
     "execution_count": 128,
     "metadata": {},
     "output_type": "execute_result"
    }
   ],
   "source": [
    "acertos_arvore = y_previsto_arvore == y_teste\n",
    "acertos_arvore"
   ]
  },
  {
   "cell_type": "code",
   "execution_count": 129,
   "id": "c2781be5",
   "metadata": {},
   "outputs": [
    {
     "name": "stdout",
     "output_type": "stream",
     "text": [
      "[[    0     1]\n",
      " [ 2294 37792]]\n"
     ]
    }
   ],
   "source": [
    "valores_arvore, quantidades_arvore = np.unique(acertos_arvore, return_counts=True)\n",
    "print(np.asarray((valores_arvore, quantidades_arvore)))"
   ]
  },
  {
   "cell_type": "markdown",
   "id": "99ad3149",
   "metadata": {},
   "source": [
    "#### Acurácia pela árvore de decisão"
   ]
  },
  {
   "cell_type": "code",
   "execution_count": 130,
   "id": "194e8045",
   "metadata": {},
   "outputs": [
    {
     "name": "stdout",
     "output_type": "stream",
     "text": [
      "Acurácia:  0.94\n"
     ]
    }
   ],
   "source": [
    "from sklearn.metrics import accuracy_score\n",
    "\n",
    "print(\"Acurácia: \", accuracy_score(y_teste,y_previsto_arvore).round(2))"
   ]
  },
  {
   "cell_type": "markdown",
   "id": "a5e0365f",
   "metadata": {},
   "source": [
    "#### Visualização da árvore de decisão\n",
    "\n"
   ]
  },
  {
   "cell_type": "markdown",
   "id": "942e034e",
   "metadata": {},
   "source": [
    "O seguinte comando retorna os nomes dos atributos categoriacos criados na etapara de pre processamento"
   ]
  },
  {
   "cell_type": "code",
   "execution_count": 131,
   "id": "6bd8d5b9",
   "metadata": {},
   "outputs": [],
   "source": [
    "nomes_atributos = np.append( nomes_atributos_numericos, \n",
    "                             base_completo.named_transformers_['categoricos'].get_feature_names())"
   ]
  },
  {
   "cell_type": "code",
   "execution_count": 132,
   "id": "d679cc9f",
   "metadata": {},
   "outputs": [
    {
     "data": {
      "text/plain": [
       "[Text(727.3241379310344, 587.0880000000001, 'x0_INSUMOS PARA DIABETES <= 0.5\\ngini = 0.112\\nsamples = 160343\\nvalue = [9574, 150769]\\nclass = REALIZADA'),\n",
       " Text(369.4344827586207, 456.624, 'x0_OFTALMOLOGIA TRIAGEM VISUAL <= 0.5\\ngini = 0.107\\nsamples = 159485\\nvalue = [9011, 150474]\\nclass = REALIZADA'),\n",
       " Text(184.71724137931034, 326.1600000000001, 'x0_DERMATOLOGIA ADULTO <= 0.5\\ngini = 0.102\\nsamples = 157811\\nvalue = [8509, 149302]\\nclass = REALIZADA'),\n",
       " Text(92.35862068965517, 195.69600000000003, 'x0_DERMATOLOGIA PEDIÁTRICA <= 0.5\\ngini = 0.098\\nsamples = 155274\\nvalue = [8014, 147260]\\nclass = REALIZADA'),\n",
       " Text(46.179310344827584, 65.23200000000008, 'gini = 0.095\\nsamples = 154425\\nvalue = [7763, 146662]\\nclass = REALIZADA'),\n",
       " Text(138.53793103448277, 65.23200000000008, 'gini = 0.416\\nsamples = 849\\nvalue = [251, 598]\\nclass = REALIZADA'),\n",
       " Text(277.07586206896553, 195.69600000000003, 'num_dias <= 0.579\\ngini = 0.314\\nsamples = 2537\\nvalue = [495, 2042]\\nclass = REALIZADA'),\n",
       " Text(230.8965517241379, 65.23200000000008, 'gini = 0.269\\nsamples = 1836\\nvalue = [294, 1542]\\nclass = REALIZADA'),\n",
       " Text(323.2551724137931, 65.23200000000008, 'gini = 0.409\\nsamples = 701\\nvalue = [201, 500]\\nclass = REALIZADA'),\n",
       " Text(554.1517241379311, 326.1600000000001, 'num_dias <= -0.343\\ngini = 0.42\\nsamples = 1674\\nvalue = [502, 1172]\\nclass = REALIZADA'),\n",
       " Text(461.7931034482758, 195.69600000000003, 'num_dias <= -0.957\\ngini = 0.233\\nsamples = 89\\nvalue = [12, 77]\\nclass = REALIZADA'),\n",
       " Text(415.61379310344824, 65.23200000000008, 'gini = 0.0\\nsamples = 1\\nvalue = [1, 0]\\nclass = CANCELADA'),\n",
       " Text(507.97241379310344, 65.23200000000008, 'gini = 0.219\\nsamples = 88\\nvalue = [11, 77]\\nclass = REALIZADA'),\n",
       " Text(646.5103448275862, 195.69600000000003, 'num_dias <= -0.306\\ngini = 0.427\\nsamples = 1585\\nvalue = [490, 1095]\\nclass = REALIZADA'),\n",
       " Text(600.3310344827586, 65.23200000000008, 'gini = 0.487\\nsamples = 31\\nvalue = [18, 13]\\nclass = CANCELADA'),\n",
       " Text(692.6896551724137, 65.23200000000008, 'gini = 0.423\\nsamples = 1554\\nvalue = [472, 1082]\\nclass = REALIZADA'),\n",
       " Text(1085.2137931034483, 456.624, 'num_dias <= -0.628\\ngini = 0.451\\nsamples = 858\\nvalue = [563, 295]\\nclass = CANCELADA'),\n",
       " Text(923.5862068965516, 326.1600000000001, 'num_dias <= -0.775\\ngini = 0.405\\nsamples = 535\\nvalue = [384, 151]\\nclass = CANCELADA'),\n",
       " Text(831.2275862068965, 195.69600000000003, 'x1_MASCULINO <= 0.5\\ngini = 0.482\\nsamples = 183\\nvalue = [109, 74]\\nclass = CANCELADA'),\n",
       " Text(785.048275862069, 65.23200000000008, 'gini = 0.379\\nsamples = 130\\nvalue = [97, 33]\\nclass = CANCELADA'),\n",
       " Text(877.4068965517241, 65.23200000000008, 'gini = 0.35\\nsamples = 53\\nvalue = [12, 41]\\nclass = REALIZADA'),\n",
       " Text(1015.9448275862069, 195.69600000000003, 'num_dias <= -0.694\\ngini = 0.342\\nsamples = 352\\nvalue = [275, 77]\\nclass = CANCELADA'),\n",
       " Text(969.7655172413793, 65.23200000000008, 'gini = 0.378\\nsamples = 158\\nvalue = [118, 40]\\nclass = CANCELADA'),\n",
       " Text(1062.1241379310345, 65.23200000000008, 'gini = 0.309\\nsamples = 194\\nvalue = [157, 37]\\nclass = CANCELADA'),\n",
       " Text(1246.8413793103448, 326.1600000000001, 'num_dias <= 0.861\\ngini = 0.494\\nsamples = 323\\nvalue = [179, 144]\\nclass = CANCELADA'),\n",
       " Text(1200.6620689655172, 195.69600000000003, 'num_dias <= 0.052\\ngini = 0.497\\nsamples = 311\\nvalue = [167, 144]\\nclass = CANCELADA'),\n",
       " Text(1154.4827586206895, 65.23200000000008, 'gini = 0.494\\nsamples = 283\\nvalue = [157, 126]\\nclass = CANCELADA'),\n",
       " Text(1246.8413793103448, 65.23200000000008, 'gini = 0.459\\nsamples = 28\\nvalue = [10, 18]\\nclass = REALIZADA'),\n",
       " Text(1293.0206896551724, 195.69600000000003, 'gini = 0.0\\nsamples = 12\\nvalue = [12, 0]\\nclass = CANCELADA')]"
      ]
     },
     "execution_count": 132,
     "metadata": {},
     "output_type": "execute_result"
    },
    {
     "data": {
      "image/png": "[encoded data removed]",
      "text/plain": [
       "<Figure size 1728x864 with 1 Axes>"
      ]
     },
     "metadata": {
      "needs_background": "light"
     },
     "output_type": "display_data"
    }
   ],
   "source": [
    "from sklearn import tree\n",
    "\n",
    "plt.figure(figsize=(24,12))\n",
    "\n",
    "tree.plot_tree(arvore,\n",
    "               feature_names=nomes_atributos,\n",
    "               class_names=arvore.classes_,\n",
    "               rounded=True,\n",
    "               filled=True,\n",
    "               proportion=False,\n",
    "               fontsize=16)"
   ]
  },
  {
   "cell_type": "markdown",
   "id": "9ef6edab",
   "metadata": {},
   "source": [
    "#### O gini é o grau de pureza, quanto mais próximo de zero mais pura será a decisão realizada. É possivel observar no modelo o valor 0 para o gini de alguns nodos da árvores, demonstrando que não é necessário mais divisões para aquela decisão. Essa observação foi possível pois a visualização da árvore foi criada com uma profundidade 4."
   ]
  },
  {
   "cell_type": "markdown",
   "id": "54ab0607",
   "metadata": {},
   "source": [
    "## 4. Avaliação de desempenho"
   ]
  },
  {
   "cell_type": "markdown",
   "id": "aebf8ba7",
   "metadata": {},
   "source": [
    "Foi utilizada a técinica de Validação Cruzada, realizando a separação da base de treino em partes e reservando uma parte de cada para a validação, e medindo a acurácia de cada parte.\n",
    "A acurácia final da avaliação será a média da acurácia das partes.\n",
    "\n",
    "Fonte: https://scikit-learn.org/stable/modules/cross_validation.html"
   ]
  },
  {
   "cell_type": "code",
   "execution_count": 133,
   "id": "bd55bf5e",
   "metadata": {},
   "outputs": [
    {
     "name": "stdout",
     "output_type": "stream",
     "text": [
      "Acuracia de cada particionamento:  [0.94200006 0.94187533 0.94184415 0.94221654 0.94181115]\n",
      "Acuracia média:  0.941949446678669\n"
     ]
    }
   ],
   "source": [
    "from sklearn.model_selection import cross_val_score\n",
    "\n",
    "scores= cross_val_score(arvore, X_treino, y_treino, cv=5 )\n",
    "\n",
    "\n",
    "print(\"Acuracia de cada particionamento: \", scores)\n",
    "print(\"Acuracia média: \", scores.mean())"
   ]
  },
  {
   "cell_type": "markdown",
   "id": "0e8edec2",
   "metadata": {},
   "source": [
    "Obtivemos acuradia de 94% e como pode ser visto a acurácia de cada particionamento é constante, ou seja mostra que o modelo não possui overfitting."
   ]
  },
  {
   "cell_type": "markdown",
   "id": "db122a4a",
   "metadata": {},
   "source": [
    "Modelo GridSearchCV que irá verificar de acordo com uma valor de profundidade diferente de cada árvores"
   ]
  },
  {
   "cell_type": "code",
   "execution_count": 134,
   "id": "89c6345d",
   "metadata": {},
   "outputs": [
    {
     "data": {
      "text/plain": [
       "GridSearchCV(estimator=DecisionTreeClassifier(max_depth=4),\n",
       "             param_grid=[{'max_depth': [1, 2, 3, 4, 5, 6, 7, 8],\n",
       "                          'min_samples_leaf': [2, 3, 4, 5]}])"
      ]
     },
     "execution_count": 134,
     "metadata": {},
     "output_type": "execute_result"
    }
   ],
   "source": [
    "from sklearn.model_selection import GridSearchCV\n",
    "\n",
    "param_grid=[\n",
    "    {'max_depth': [1,2,3,4,5,6,7,8],\n",
    "    'min_samples_leaf': [2,3,4,5]\n",
    "    }\n",
    "]\n",
    "\n",
    "grid_search = GridSearchCV(arvore, param_grid)\n",
    "grid_search.fit(X_treino, y_treino)"
   ]
  },
  {
   "cell_type": "markdown",
   "id": "807a3fb7",
   "metadata": {},
   "source": [
    "Segundo essa analise a melhor combinação de paramentos é: "
   ]
  },
  {
   "cell_type": "code",
   "execution_count": 135,
   "id": "e08e23c3",
   "metadata": {},
   "outputs": [
    {
     "data": {
      "text/plain": [
       "{'max_depth': 7, 'min_samples_leaf': 5}"
      ]
     },
     "execution_count": 135,
     "metadata": {},
     "output_type": "execute_result"
    }
   ],
   "source": [
    "grid_search.best_params_"
   ]
  },
  {
   "cell_type": "markdown",
   "id": "f6917ed7",
   "metadata": {},
   "source": [
    "A melhor árvore treinada é obtida no parametro best_estimator_"
   ]
  },
  {
   "cell_type": "code",
   "execution_count": 136,
   "id": "7c5c0d36",
   "metadata": {},
   "outputs": [
    {
     "name": "stdout",
     "output_type": "stream",
     "text": [
      "Acuracia:  0.9428977697949409\n"
     ]
    }
   ],
   "source": [
    "y_previsto_melhor_arvore = grid_search.best_estimator_.predict(X_teste)\n",
    "print(\"Acuracia: \", accuracy_score(y_teste, y_previsto_melhor_arvore))"
   ]
  },
  {
   "cell_type": "markdown",
   "id": "6786285f",
   "metadata": {},
   "source": [
    "#### A Acurácia obtida novamente com diferentes treinos e características de profundidade de árvores diferentes, reforça a capacidade de generalização do modelo implementado."
   ]
  },
  {
   "cell_type": "markdown",
   "id": "15bd4893",
   "metadata": {},
   "source": [
    "#### Utilizando matriz de confusão para tentar melhorar a avaliação de desempenho"
   ]
  },
  {
   "cell_type": "code",
   "execution_count": 137,
   "id": "5f548bf8",
   "metadata": {},
   "outputs": [],
   "source": [
    "from sklearn.metrics import confusion_matrix\n",
    "from sklearn.metrics import precision_score\n",
    "from sklearn.metrics import recall_score\n",
    "from sklearn.metrics import f1_score"
   ]
  },
  {
   "cell_type": "code",
   "execution_count": 138,
   "id": "a45cc436",
   "metadata": {},
   "outputs": [
    {
     "name": "stdout",
     "output_type": "stream",
     "text": [
      "[[  133  2211]\n",
      " [   75 37667]]\n",
      "Acuracia:  0.9429726088908846\n",
      "Precisão:  0.9445558954812178\n",
      "Recall:  0.9980128239097027\n",
      "F1:  0.970548827621747\n"
     ]
    }
   ],
   "source": [
    "print(confusion_matrix(y_teste, y_previsto_reglog))\n",
    "\n",
    "print(\"Acuracia: \", accuracy_score(y_teste, y_previsto_reglog))\n",
    "print(\"Precisão: \", precision_score(y_teste, y_previsto_reglog, pos_label='REALIZADA')) # quantas previsões corretas\n",
    "print(\"Recall: \", recall_score(y_teste, y_previsto_reglog, pos_label='REALIZADA')) # capacidade de identificar amostras das classes positivas\n",
    "print(\"F1: \", f1_score(y_teste, y_previsto_reglog, pos_label='REALIZADA')) # média equilibrada entre Precisão e Recall\n",
    "\n",
    "# A diagonal principal \\ representa os acertos"
   ]
  },
  {
   "cell_type": "code",
   "execution_count": 139,
   "id": "fee32676",
   "metadata": {},
   "outputs": [
    {
     "name": "stdout",
     "output_type": "stream",
     "text": [
      "[[  124  2220]\n",
      " [   74 37668]]\n",
      "Acuracia:  0.942773037968368\n",
      "Precisão:  0.944344163658243\n",
      "Recall:  0.9980393195909066\n",
      "F1:  0.9704495684657993\n"
     ]
    }
   ],
   "source": [
    "print(confusion_matrix(y_teste, y_previsto_arvore))\n",
    "\n",
    "print(\"Acuracia: \", accuracy_score(y_teste, y_previsto_arvore))\n",
    "print(\"Precisão: \", precision_score(y_teste, y_previsto_arvore, pos_label='REALIZADA'))\n",
    "print(\"Recall: \", recall_score(y_teste, y_previsto_arvore, pos_label='REALIZADA'))\n",
    "print(\"F1: \", f1_score(y_teste, y_previsto_arvore, pos_label='REALIZADA'))"
   ]
  },
  {
   "cell_type": "markdown",
   "id": "0dc4ee3f",
   "metadata": {},
   "source": [
    "## 5. Conclusão e escolha do modelo final "
   ]
  },
  {
   "cell_type": "markdown",
   "id": "adc67e30",
   "metadata": {},
   "source": [
    "#### O modelo de Regressão linear e árvore de descisão estão no mesmo patamar de desempenho para esse dataset com as parametrizações realizadas. Em ambos modelos a acurácia obtida foi em torno de 94%, assim a probabilidade de overfitting é muito baixa. Portanto, a partir da analise de desempenho realizada,  é provavel que os modelos irão apresentar o mesmo desempenho com dados novos."
   ]
  },
  {
   "cell_type": "markdown",
   "id": "0a50f23d",
   "metadata": {},
   "source": [
    "## Referências:\n",
    "\n",
    "#### https://pandas.pydata.org/pandas-docs/stable/reference/api/pandas.DataFrame.groupby.html\n",
    "#### https://qastack.com.br/programming/25646200/python-convert-timedelta-to-int-in-a-dataframe\n",
    "#### https://scikit-learn.org/stable/modules/cross_validation.html\n",
    "\n"
   ]
  }
 ],
 "metadata": {
  "kernelspec": {
   "display_name": "Python 3",
   "language": "python",
   "name": "python3"
  },
  "language_info": {
   "codemirror_mode": {
    "name": "ipython",
    "version": 3
   },
   "file_extension": ".py",
   "mimetype": "text/x-python",
   "name": "python",
   "nbconvert_exporter": "python",
   "pygments_lexer": "ipython3",
   "version": "3.8.10"
  }
 },
 "nbformat": 4,
 "nbformat_minor": 5
}
